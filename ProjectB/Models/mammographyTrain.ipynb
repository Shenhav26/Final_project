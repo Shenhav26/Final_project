{
  "cells": [
    {
      "cell_type": "markdown",
      "source": [
        "[**Original link here**](https://www.kaggle.com/code/vortexkol/ddsm-breast-cancer-densenet121)"
      ],
      "metadata": {
        "id": "cuc4Pt1pVaJx"
      }
    },
    {
      "cell_type": "markdown",
      "metadata": {
        "id": "nq0sttnowECM"
      },
      "source": [
        "# **Download the dataset from Kaggle**"
      ]
    },
    {
      "cell_type": "code",
      "execution_count": null,
      "metadata": {
        "id": "viZL_IKmtw2W",
        "colab": {
          "base_uri": "https://localhost:8080/"
        },
        "outputId": "cd78ec06-2a75-4d50-ffe7-838ede9d9dd1"
      },
      "outputs": [
        {
          "output_type": "stream",
          "name": "stdout",
          "text": [
            "Mounted at /content/drive\n"
          ]
        }
      ],
      "source": [
        "from google.colab import drive\n",
        "drive.mount('/content/drive')"
      ]
    },
    {
      "cell_type": "code",
      "execution_count": null,
      "metadata": {
        "id": "R_B98JG8t0Pf"
      },
      "outputs": [],
      "source": [
        "import os\n",
        "\n",
        "os.environ['KAGGLE_USERNAME'] = \"shenhav026\" # username from the json file\n",
        "os.environ['KAGGLE_KEY'] = \"fecdd1158d18301e53d18c19ed884477\" # key from the json file"
      ]
    },
    {
      "cell_type": "code",
      "execution_count": null,
      "metadata": {
        "colab": {
          "base_uri": "https://localhost:8080/"
        },
        "id": "uE_w66DPt16G",
        "outputId": "140415da-9695-4c10-d079-ab4a502c8c8a"
      },
      "outputs": [
        {
          "output_type": "stream",
          "name": "stdout",
          "text": [
            "Downloading ddsm-mammography.zip to /content\n",
            "100% 2.88G/2.88G [01:34<00:00, 36.9MB/s]\n",
            "100% 2.88G/2.88G [01:34<00:00, 32.7MB/s]\n"
          ]
        }
      ],
      "source": [
        "! kaggle datasets download -d skooch/ddsm-mammography"
      ]
    },
    {
      "cell_type": "code",
      "execution_count": null,
      "metadata": {
        "colab": {
          "base_uri": "https://localhost:8080/"
        },
        "id": "tblh4PyOt3kn",
        "outputId": "17b1aabe-8372-4269-e414-827576c499a2"
      },
      "outputs": [
        {
          "output_type": "stream",
          "name": "stdout",
          "text": [
            "Archive:  ddsm-mammography.zip\n",
            "  inflating: dataset/cv10_data/cv10_data.npy  \n",
            "  inflating: dataset/cv10_labels.npy  \n",
            "  inflating: dataset/test10_data/test10_data.npy  \n",
            "  inflating: dataset/test10_labels.npy  \n",
            "  inflating: dataset/training10_0/training10_0.tfrecords  \n",
            "  inflating: dataset/training10_1/training10_1.tfrecords  \n",
            "  inflating: dataset/training10_2/training10_2.tfrecords  \n",
            "  inflating: dataset/training10_3/training10_3.tfrecords  \n",
            "  inflating: dataset/training10_4/training10_4.tfrecords  \n"
          ]
        }
      ],
      "source": [
        "! mkdir dataset\n",
        "! unzip ddsm-mammography.zip -d dataset"
      ]
    },
    {
      "cell_type": "markdown",
      "metadata": {
        "id": "-pizwjXWwUfH"
      },
      "source": [
        "# **Reading TFRecord files**"
      ]
    },
    {
      "cell_type": "code",
      "source": [
        "from collections import Counter\n",
        "import cv2\n",
        "import os\n",
        "import glob\n",
        "import skimage\n",
        "import numpy as np\n",
        "import pandas as pd\n",
        "import seaborn as sn\n",
        "from tqdm import tqdm\n",
        "from io import BytesIO\n",
        "from PIL import Image\n",
        "from os import listdir\n",
        "import matplotlib.pyplot as plt\n",
        "from imageio import imread\n",
        "from skimage.transform import resize\n",
        "from collections import Counter\n",
        "import IPython.display as display\n",
        "\n",
        "sn.set()\n",
        "from sklearn.svm import SVC # SVC\n",
        "from sklearn import metrics,preprocessing\n",
        "from sklearn.utils import shuffle\n",
        "from xgboost import XGBClassifier # XGBClassifier\n",
        "from sklearn import metrics\n",
        "from sklearn.metrics import confusion_matrix, classification_report\n",
        "from sklearn.utils import compute_class_weight\n",
        "from sklearn.preprocessing import MinMaxScaler,LabelBinarizer\n",
        "from sklearn.ensemble import AdaBoostClassifier # AdaBoostClassifier\n",
        "from sklearn.neighbors import KNeighborsClassifier # KNeighborsClassifier\n",
        "from sklearn.ensemble import RandomForestClassifier # RandomForestClassifier\n",
        "from sklearn.model_selection import train_test_split\n",
        "\n",
        "import tensorflow as tf\n",
        "from keras.utils import to_categorical\n",
        "from keras.metrics import AUC\n",
        "from keras.preprocessing import image\n",
        "from keras.models import Model, Sequential\n",
        "from keras.applications.densenet import DenseNet121 # DenseNet121\n",
        "from keras.applications.inception_v3 import InceptionV3 # InceptionV3\n",
        "from keras.layers import Input, Dense, Dropout, BatchNormalization, Flatten, Activation, GlobalAveragePooling2D,Conv2D, MaxPooling2D\n",
        "from keras.callbacks import EarlyStopping, ModelCheckpoint\n",
        "from keras import optimizers, activations"
      ],
      "metadata": {
        "id": "FWgsvE6kEWiw"
      },
      "execution_count": null,
      "outputs": []
    },
    {
      "cell_type": "code",
      "source": [
        "images=[]\n",
        "labels=[]\n",
        "feature_dictionary = {\n",
        "    'label': tf.io.FixedLenFeature([], tf.int64),\n",
        "    'label_normal': tf.io.FixedLenFeature([], tf.int64),\n",
        "    'image': tf.io.FixedLenFeature([], tf.string)\n",
        "    }"
      ],
      "metadata": {
        "id": "Vjy6gY8FEXGg"
      },
      "execution_count": null,
      "outputs": []
    },
    {
      "cell_type": "code",
      "source": [
        "def _parse_function(example, feature_dictionary=feature_dictionary):\n",
        "    parsed_example = tf.io.parse_example(example, feature_dictionary)\n",
        "    return parsed_example\n",
        "\n",
        "def read_data(filename):\n",
        "    full_dataset = tf.data.TFRecordDataset(filename,num_parallel_reads=tf.data.experimental.AUTOTUNE)\n",
        "    full_dataset = full_dataset.shuffle(buffer_size=31000)\n",
        "    full_dataset = full_dataset.cache()\n",
        "    print(\"Size of Training Dataset: \", len(list(full_dataset)))\n",
        "\n",
        "    feature_dictionary = {\n",
        "    'label': tf.io.FixedLenFeature([], tf.int64),\n",
        "    'label_normal': tf.io.FixedLenFeature([], tf.int64),\n",
        "    'image': tf.io.FixedLenFeature([], tf.string)\n",
        "    }\n",
        "    full_dataset = full_dataset.map(_parse_function, num_parallel_calls=tf.data.experimental.AUTOTUNE)\n",
        "    print(full_dataset)\n",
        "    for image_features in full_dataset:\n",
        "        image = image_features['image'].numpy()\n",
        "        image = tf.io.decode_raw(image_features['image'], tf.uint8)\n",
        "        image = tf.reshape(image, [299, 299])\n",
        "        image=image.numpy()\n",
        "        image=cv2.resize(image,(100,100))\n",
        "        image=cv2.merge([image,image,image])\n",
        "        #plt.imshow(image)\n",
        "        images.append(image)\n",
        "        labels.append(image_features['label_normal'].numpy())"
      ],
      "metadata": {
        "id": "rf38UE-bEXdI"
      },
      "execution_count": null,
      "outputs": []
    },
    {
      "cell_type": "code",
      "source": [
        "filenames=['/content/dataset/training10_0/training10_0.tfrecords',\n",
        "          '/content/dataset/training10_1/training10_1.tfrecords',\n",
        "          '/content/dataset/training10_2/training10_2.tfrecords',\n",
        "          '/content/dataset/training10_3/training10_3.tfrecords',\n",
        "          '/content/dataset/training10_4/training10_4.tfrecords']\n",
        "\n",
        "for file in filenames:\n",
        "    read_data(file)\n",
        "\n",
        "print(len(images))\n",
        "print(len(labels))"
      ],
      "metadata": {
        "colab": {
          "base_uri": "https://localhost:8080/"
        },
        "id": "LGntUFd5E-vR",
        "outputId": "7c3a15c0-bee3-4a77-9df9-4a340b558070"
      },
      "execution_count": null,
      "outputs": [
        {
          "output_type": "stream",
          "name": "stdout",
          "text": [
            "Size of Training Dataset:  11177\n",
            "<_ParallelMapDataset element_spec={'image': TensorSpec(shape=(), dtype=tf.string, name=None), 'label': TensorSpec(shape=(), dtype=tf.int64, name=None), 'label_normal': TensorSpec(shape=(), dtype=tf.int64, name=None)}>\n",
            "Size of Training Dataset:  11177\n",
            "<_ParallelMapDataset element_spec={'image': TensorSpec(shape=(), dtype=tf.string, name=None), 'label': TensorSpec(shape=(), dtype=tf.int64, name=None), 'label_normal': TensorSpec(shape=(), dtype=tf.int64, name=None)}>\n",
            "Size of Training Dataset:  11177\n",
            "<_ParallelMapDataset element_spec={'image': TensorSpec(shape=(), dtype=tf.string, name=None), 'label': TensorSpec(shape=(), dtype=tf.int64, name=None), 'label_normal': TensorSpec(shape=(), dtype=tf.int64, name=None)}>\n",
            "Size of Training Dataset:  11177\n",
            "<_ParallelMapDataset element_spec={'image': TensorSpec(shape=(), dtype=tf.string, name=None), 'label': TensorSpec(shape=(), dtype=tf.int64, name=None), 'label_normal': TensorSpec(shape=(), dtype=tf.int64, name=None)}>\n",
            "Size of Training Dataset:  11177\n",
            "<_ParallelMapDataset element_spec={'image': TensorSpec(shape=(), dtype=tf.string, name=None), 'label': TensorSpec(shape=(), dtype=tf.int64, name=None), 'label_normal': TensorSpec(shape=(), dtype=tf.int64, name=None)}>\n",
            "55885\n",
            "55885\n"
          ]
        }
      ]
    },
    {
      "cell_type": "markdown",
      "metadata": {
        "id": "7AL_KL9S-CE6"
      },
      "source": [
        "# **Training**"
      ]
    },
    {
      "cell_type": "code",
      "execution_count": null,
      "metadata": {
        "id": "JIgQXl3u-Hcr"
      },
      "outputs": [],
      "source": [
        "X=np.array(images)\n",
        "y=np.array(labels)\n",
        "x_train, x_test, y_train, y_test = train_test_split(X, y, test_size=0.2, random_state=2021,shuffle=True,stratify=y)"
      ]
    },
    {
      "cell_type": "code",
      "execution_count": null,
      "metadata": {
        "colab": {
          "base_uri": "https://localhost:8080/"
        },
        "id": "o50WKPWz-KAk",
        "outputId": "1888441f-aa31-40a3-b87c-d5fd644f132d"
      },
      "outputs": [
        {
          "output_type": "execute_result",
          "data": {
            "text/plain": [
              "<matplotlib.image.AxesImage at 0x7fa009916e00>"
            ]
          },
          "metadata": {},
          "execution_count": 10
        },
        {
          "output_type": "display_data",
          "data": {
            "text/plain": [
              "<Figure size 640x480 with 1 Axes>"
            ],
            "image/png": "[encoded data removed]"
          },
          "metadata": {}
        }
      ],
      "source": [
        "plt.imshow(x_train[0])"
      ]
    },
    {
      "cell_type": "code",
      "execution_count": null,
      "metadata": {
        "id": "r6Zaj0bE-AlW",
        "colab": {
          "base_uri": "https://localhost:8080/"
        },
        "outputId": "981e8d71-3c11-47aa-862d-7b505f4ccff1"
      },
      "outputs": [
        {
          "output_type": "stream",
          "name": "stdout",
          "text": [
            "(100, 100, 3)\n"
          ]
        }
      ],
      "source": [
        "print(x_train[0].shape)"
      ]
    },
    {
      "cell_type": "code",
      "execution_count": null,
      "metadata": {
        "id": "QN7902Hx-ae8",
        "colab": {
          "base_uri": "https://localhost:8080/"
        },
        "outputId": "0c46e4f3-311d-4467-c07d-f48831cbb36a"
      },
      "outputs": [
        {
          "output_type": "stream",
          "name": "stdout",
          "text": [
            "(100, 100, 3)\n"
          ]
        }
      ],
      "source": [
        "rows, cols,color = x_train[0].shape\n",
        "print(x_train[0].shape)"
      ]
    },
    {
      "cell_type": "markdown",
      "source": [
        "# **Models**"
      ],
      "metadata": {
        "id": "mVN11faGGwsZ"
      }
    },
    {
      "cell_type": "markdown",
      "source": [
        "**DenseNet121 Model**"
      ],
      "metadata": {
        "id": "xCoh9-WkBX_w"
      }
    },
    {
      "cell_type": "code",
      "source": [
        "def create_densenet121():\n",
        "  base_model = DenseNet121(input_shape=(100,100,3), weights='imagenet', include_top=False)\n",
        "  model=Sequential()\n",
        "  model.add(base_model)\n",
        "  model.add(Dropout(0.2))\n",
        "  model.add(Flatten())\n",
        "  model.add(BatchNormalization())\n",
        "  model.add(Dense(1024,kernel_initializer='he_uniform'))\n",
        "  model.add(BatchNormalization())\n",
        "  model.add(Activation('relu'))\n",
        "  model.add(Dropout(0.2))\n",
        "  model.add(Dense(1024,kernel_initializer='he_uniform'))\n",
        "  model.add(BatchNormalization())\n",
        "  model.add(Activation('relu'))\n",
        "  model.add(Dropout(0.2))\n",
        "  model.add(Dense(1024,kernel_initializer='he_uniform'))\n",
        "  model.add(BatchNormalization())\n",
        "  model.add(Activation('relu'))\n",
        "  model.add(Dropout(0.2))\n",
        "  model.add(Dense(1024,kernel_initializer='he_uniform'))\n",
        "  model.add(BatchNormalization())\n",
        "  model.add(Activation('relu'))\n",
        "  model.add(Dropout(0.2))\n",
        "  model.add(Dense(1,activation='sigmoid'))\n",
        "\n",
        "  for layer in base_model.layers:\n",
        "      layer.trainable = False\n",
        "\n",
        "  #model.summary()\n",
        "\n",
        "  #es = EarlyStopping(monitor='val_loss', mode='min', patience=5,restore_best_weights=True, verbose=1)\n",
        "\n",
        "  device_name = tf.test.gpu_device_name()\n",
        "  if len(device_name) > 0:\n",
        "      print(\"Found GPU at: {}\".format(device_name))\n",
        "  else:\n",
        "      device_name = \"/device:CPU:0\"\n",
        "      print(\"No GPU, using {}.\".format(device_name))\n",
        "\n",
        "  with tf.device(device_name):\n",
        "    opt = tf.keras.optimizers.Adam(learning_rate=0.000005)\n",
        "    model.compile(optimizer=opt,loss='binary_crossentropy', metrics=['accuracy'])\n",
        "    #history = model.fit(x_train, y_train,validation_split=0.2,shuffle=True, epochs=5, batch_size=128,callbacks=[es])\n",
        "    history = model.fit(x_train, y_train,validation_split=0.2,shuffle=True, epochs=100, batch_size=64)\n",
        "    loss_value_test , accuracy_test = model.evaluate(x_test, y_test)\n",
        "    loss_value_train , accuracy_train = model.evaluate(x_train, y_train)\n",
        "\n",
        "\n",
        "  Acc_Epochs_Plot(history)\n",
        "\n",
        "  print('Test_loss_train_value = ' +str(loss_value_train))\n",
        "  print('test_accuracy_train = ' + str(accuracy_train))\n",
        "\n",
        "  print('Test_loss_value = ' +str(loss_value_test))\n",
        "  print('test_accuracy = ' + str(accuracy_test))\n",
        "\n",
        "  return model"
      ],
      "metadata": {
        "id": "CL36fvEHwNuU"
      },
      "execution_count": null,
      "outputs": []
    },
    {
      "cell_type": "code",
      "source": [
        "densenet_121 = create_densenet121()"
      ],
      "metadata": {
        "colab": {
          "base_uri": "https://localhost:8080/",
          "height": 1000
        },
        "id": "I8cRKzJzwqsi",
        "outputId": "1c8d10c1-4bcf-4f56-ab40-cc0a68915efd"
      },
      "execution_count": null,
      "outputs": [
        {
          "output_type": "stream",
          "name": "stdout",
          "text": [
            "Found GPU at: /device:GPU:0\n",
            "Epoch 1/100\n",
            "559/559 [==============================] - 44s 62ms/step - loss: 0.5974 - accuracy: 0.6906 - val_loss: 0.4192 - val_accuracy: 0.8639\n",
            "Epoch 2/100\n",
            "559/559 [==============================] - 31s 56ms/step - loss: 0.3965 - accuracy: 0.8435 - val_loss: 0.3221 - val_accuracy: 0.8809\n",
            "Epoch 3/100\n",
            "559/559 [==============================] - 31s 55ms/step - loss: 0.3294 - accuracy: 0.8685 - val_loss: 0.2810 - val_accuracy: 0.8917\n",
            "Epoch 4/100\n",
            "559/559 [==============================] - 31s 56ms/step - loss: 0.2966 - accuracy: 0.8771 - val_loss: 0.2577 - val_accuracy: 0.8969\n",
            "Epoch 5/100\n",
            "559/559 [==============================] - 31s 56ms/step - loss: 0.2785 - accuracy: 0.8841 - val_loss: 0.2478 - val_accuracy: 0.8980\n",
            "Epoch 6/100\n",
            "559/559 [==============================] - 32s 57ms/step - loss: 0.2675 - accuracy: 0.8886 - val_loss: 0.2381 - val_accuracy: 0.9001\n",
            "Epoch 7/100\n",
            "559/559 [==============================] - 32s 58ms/step - loss: 0.2582 - accuracy: 0.8924 - val_loss: 0.2302 - val_accuracy: 0.9053\n",
            "Epoch 8/100\n",
            "559/559 [==============================] - 32s 58ms/step - loss: 0.2510 - accuracy: 0.8930 - val_loss: 0.2247 - val_accuracy: 0.9065\n",
            "Epoch 9/100\n",
            "559/559 [==============================] - 32s 58ms/step - loss: 0.2430 - accuracy: 0.8956 - val_loss: 0.2205 - val_accuracy: 0.9089\n",
            "Epoch 10/100\n",
            "559/559 [==============================] - 32s 58ms/step - loss: 0.2395 - accuracy: 0.8997 - val_loss: 0.2176 - val_accuracy: 0.9085\n",
            "Epoch 11/100\n",
            "559/559 [==============================] - 32s 58ms/step - loss: 0.2338 - accuracy: 0.9009 - val_loss: 0.2136 - val_accuracy: 0.9106\n",
            "Epoch 12/100\n",
            "559/559 [==============================] - 32s 57ms/step - loss: 0.2285 - accuracy: 0.9040 - val_loss: 0.2129 - val_accuracy: 0.9122\n",
            "Epoch 13/100\n",
            "559/559 [==============================] - 32s 57ms/step - loss: 0.2258 - accuracy: 0.9033 - val_loss: 0.2095 - val_accuracy: 0.9133\n",
            "Epoch 14/100\n",
            "559/559 [==============================] - 32s 57ms/step - loss: 0.2237 - accuracy: 0.9059 - val_loss: 0.2089 - val_accuracy: 0.9139\n",
            "Epoch 15/100\n",
            "559/559 [==============================] - 32s 57ms/step - loss: 0.2191 - accuracy: 0.9094 - val_loss: 0.2064 - val_accuracy: 0.9147\n",
            "Epoch 16/100\n",
            "559/559 [==============================] - 32s 58ms/step - loss: 0.2178 - accuracy: 0.9078 - val_loss: 0.2054 - val_accuracy: 0.9151\n",
            "Epoch 17/100\n",
            "559/559 [==============================] - 32s 57ms/step - loss: 0.2178 - accuracy: 0.9080 - val_loss: 0.2041 - val_accuracy: 0.9160\n",
            "Epoch 18/100\n",
            "559/559 [==============================] - 32s 57ms/step - loss: 0.2124 - accuracy: 0.9120 - val_loss: 0.2045 - val_accuracy: 0.9169\n",
            "Epoch 19/100\n",
            "559/559 [==============================] - 32s 57ms/step - loss: 0.2108 - accuracy: 0.9109 - val_loss: 0.2028 - val_accuracy: 0.9177\n",
            "Epoch 20/100\n",
            "559/559 [==============================] - 33s 58ms/step - loss: 0.2062 - accuracy: 0.9134 - val_loss: 0.2003 - val_accuracy: 0.9180\n",
            "Epoch 21/100\n",
            "559/559 [==============================] - 32s 58ms/step - loss: 0.2038 - accuracy: 0.9147 - val_loss: 0.2036 - val_accuracy: 0.9194\n",
            "Epoch 22/100\n",
            "559/559 [==============================] - 32s 58ms/step - loss: 0.2014 - accuracy: 0.9146 - val_loss: 0.1998 - val_accuracy: 0.9194\n",
            "Epoch 23/100\n",
            "559/559 [==============================] - 32s 58ms/step - loss: 0.2011 - accuracy: 0.9147 - val_loss: 0.1984 - val_accuracy: 0.9197\n",
            "Epoch 24/100\n",
            "559/559 [==============================] - 32s 57ms/step - loss: 0.1994 - accuracy: 0.9161 - val_loss: 0.1997 - val_accuracy: 0.9187\n",
            "Epoch 25/100\n",
            "559/559 [==============================] - 32s 57ms/step - loss: 0.1971 - accuracy: 0.9181 - val_loss: 0.1991 - val_accuracy: 0.9197\n",
            "Epoch 26/100\n",
            "559/559 [==============================] - 32s 57ms/step - loss: 0.1949 - accuracy: 0.9184 - val_loss: 0.1989 - val_accuracy: 0.9202\n",
            "Epoch 27/100\n",
            "559/559 [==============================] - 32s 58ms/step - loss: 0.1933 - accuracy: 0.9186 - val_loss: 0.1968 - val_accuracy: 0.9205\n",
            "Epoch 28/100\n",
            "559/559 [==============================] - 33s 58ms/step - loss: 0.1923 - accuracy: 0.9195 - val_loss: 0.1963 - val_accuracy: 0.9197\n",
            "Epoch 29/100\n",
            "559/559 [==============================] - 32s 58ms/step - loss: 0.1898 - accuracy: 0.9212 - val_loss: 0.1975 - val_accuracy: 0.9205\n",
            "Epoch 30/100\n",
            "559/559 [==============================] - 32s 58ms/step - loss: 0.1883 - accuracy: 0.9212 - val_loss: 0.1968 - val_accuracy: 0.9194\n",
            "Epoch 31/100\n",
            "559/559 [==============================] - 32s 58ms/step - loss: 0.1845 - accuracy: 0.9231 - val_loss: 0.1955 - val_accuracy: 0.9216\n",
            "Epoch 32/100\n",
            "559/559 [==============================] - 32s 58ms/step - loss: 0.1857 - accuracy: 0.9222 - val_loss: 0.1934 - val_accuracy: 0.9212\n",
            "Epoch 33/100\n",
            "559/559 [==============================] - 32s 57ms/step - loss: 0.1842 - accuracy: 0.9220 - val_loss: 0.1937 - val_accuracy: 0.9199\n",
            "Epoch 34/100\n",
            "559/559 [==============================] - 32s 58ms/step - loss: 0.1840 - accuracy: 0.9234 - val_loss: 0.1936 - val_accuracy: 0.9214\n",
            "Epoch 35/100\n",
            "559/559 [==============================] - 32s 57ms/step - loss: 0.1823 - accuracy: 0.9238 - val_loss: 0.1928 - val_accuracy: 0.9215\n",
            "Epoch 36/100\n",
            "559/559 [==============================] - 32s 58ms/step - loss: 0.1809 - accuracy: 0.9245 - val_loss: 0.1929 - val_accuracy: 0.9215\n",
            "Epoch 37/100\n",
            "559/559 [==============================] - 32s 57ms/step - loss: 0.1803 - accuracy: 0.9238 - val_loss: 0.1915 - val_accuracy: 0.9209\n",
            "Epoch 38/100\n",
            "559/559 [==============================] - 32s 57ms/step - loss: 0.1789 - accuracy: 0.9245 - val_loss: 0.1906 - val_accuracy: 0.9204\n",
            "Epoch 39/100\n",
            "559/559 [==============================] - 32s 57ms/step - loss: 0.1763 - accuracy: 0.9270 - val_loss: 0.1907 - val_accuracy: 0.9216\n",
            "Epoch 40/100\n",
            "559/559 [==============================] - 32s 57ms/step - loss: 0.1764 - accuracy: 0.9261 - val_loss: 0.1894 - val_accuracy: 0.9213\n",
            "Epoch 41/100\n",
            "559/559 [==============================] - 32s 57ms/step - loss: 0.1758 - accuracy: 0.9271 - val_loss: 0.1892 - val_accuracy: 0.9225\n",
            "Epoch 42/100\n",
            "559/559 [==============================] - 32s 57ms/step - loss: 0.1730 - accuracy: 0.9281 - val_loss: 0.1890 - val_accuracy: 0.9214\n",
            "Epoch 43/100\n",
            "559/559 [==============================] - 32s 57ms/step - loss: 0.1727 - accuracy: 0.9276 - val_loss: 0.1917 - val_accuracy: 0.9219\n",
            "Epoch 44/100\n",
            "559/559 [==============================] - 32s 57ms/step - loss: 0.1703 - accuracy: 0.9293 - val_loss: 0.1899 - val_accuracy: 0.9216\n",
            "Epoch 45/100\n",
            "559/559 [==============================] - 32s 57ms/step - loss: 0.1706 - accuracy: 0.9290 - val_loss: 0.1917 - val_accuracy: 0.9209\n",
            "Epoch 46/100\n",
            "559/559 [==============================] - 32s 57ms/step - loss: 0.1704 - accuracy: 0.9277 - val_loss: 0.1891 - val_accuracy: 0.9221\n",
            "Epoch 47/100\n",
            "559/559 [==============================] - 32s 57ms/step - loss: 0.1692 - accuracy: 0.9301 - val_loss: 0.1874 - val_accuracy: 0.9221\n",
            "Epoch 48/100\n",
            "559/559 [==============================] - 32s 57ms/step - loss: 0.1676 - accuracy: 0.9309 - val_loss: 0.1897 - val_accuracy: 0.9225\n",
            "Epoch 49/100\n",
            "559/559 [==============================] - 32s 58ms/step - loss: 0.1657 - accuracy: 0.9308 - val_loss: 0.1904 - val_accuracy: 0.9223\n",
            "Epoch 50/100\n",
            "559/559 [==============================] - 32s 57ms/step - loss: 0.1670 - accuracy: 0.9301 - val_loss: 0.1880 - val_accuracy: 0.9228\n",
            "Epoch 51/100\n",
            "559/559 [==============================] - 32s 57ms/step - loss: 0.1630 - accuracy: 0.9317 - val_loss: 0.1890 - val_accuracy: 0.9231\n",
            "Epoch 52/100\n",
            "559/559 [==============================] - 32s 57ms/step - loss: 0.1656 - accuracy: 0.9301 - val_loss: 0.1896 - val_accuracy: 0.9222\n",
            "Epoch 53/100\n",
            "559/559 [==============================] - 32s 57ms/step - loss: 0.1620 - accuracy: 0.9324 - val_loss: 0.1870 - val_accuracy: 0.9217\n",
            "Epoch 54/100\n",
            "559/559 [==============================] - 32s 57ms/step - loss: 0.1602 - accuracy: 0.9330 - val_loss: 0.1871 - val_accuracy: 0.9226\n",
            "Epoch 55/100\n",
            "559/559 [==============================] - 32s 57ms/step - loss: 0.1574 - accuracy: 0.9341 - val_loss: 0.1909 - val_accuracy: 0.9218\n",
            "Epoch 56/100\n",
            "559/559 [==============================] - 32s 57ms/step - loss: 0.1573 - accuracy: 0.9342 - val_loss: 0.1869 - val_accuracy: 0.9219\n",
            "Epoch 57/100\n",
            "559/559 [==============================] - 32s 57ms/step - loss: 0.1588 - accuracy: 0.9335 - val_loss: 0.1885 - val_accuracy: 0.9218\n",
            "Epoch 58/100\n",
            "559/559 [==============================] - 32s 57ms/step - loss: 0.1580 - accuracy: 0.9338 - val_loss: 0.1870 - val_accuracy: 0.9223\n",
            "Epoch 59/100\n",
            "559/559 [==============================] - 32s 57ms/step - loss: 0.1563 - accuracy: 0.9344 - val_loss: 0.1885 - val_accuracy: 0.9234\n",
            "Epoch 60/100\n",
            "559/559 [==============================] - 32s 57ms/step - loss: 0.1556 - accuracy: 0.9362 - val_loss: 0.1911 - val_accuracy: 0.9224\n",
            "Epoch 61/100\n",
            "559/559 [==============================] - 32s 57ms/step - loss: 0.1531 - accuracy: 0.9362 - val_loss: 0.1875 - val_accuracy: 0.9216\n",
            "Epoch 62/100\n",
            "559/559 [==============================] - 32s 57ms/step - loss: 0.1524 - accuracy: 0.9370 - val_loss: 0.1873 - val_accuracy: 0.9225\n",
            "Epoch 63/100\n",
            "559/559 [==============================] - 32s 57ms/step - loss: 0.1536 - accuracy: 0.9349 - val_loss: 0.1894 - val_accuracy: 0.9214\n",
            "Epoch 64/100\n",
            "559/559 [==============================] - 31s 56ms/step - loss: 0.1525 - accuracy: 0.9355 - val_loss: 0.1891 - val_accuracy: 0.9214\n",
            "Epoch 65/100\n",
            "559/559 [==============================] - 31s 55ms/step - loss: 0.1504 - accuracy: 0.9374 - val_loss: 0.1892 - val_accuracy: 0.9212\n",
            "Epoch 66/100\n",
            "559/559 [==============================] - 31s 56ms/step - loss: 0.1502 - accuracy: 0.9373 - val_loss: 0.1864 - val_accuracy: 0.9225\n",
            "Epoch 67/100\n",
            "559/559 [==============================] - 31s 56ms/step - loss: 0.1483 - accuracy: 0.9385 - val_loss: 0.1853 - val_accuracy: 0.9218\n",
            "Epoch 68/100\n",
            "559/559 [==============================] - 31s 55ms/step - loss: 0.1504 - accuracy: 0.9381 - val_loss: 0.1900 - val_accuracy: 0.9215\n",
            "Epoch 69/100\n",
            "559/559 [==============================] - 31s 55ms/step - loss: 0.1477 - accuracy: 0.9372 - val_loss: 0.1896 - val_accuracy: 0.9215\n",
            "Epoch 70/100\n",
            "559/559 [==============================] - 31s 55ms/step - loss: 0.1455 - accuracy: 0.9399 - val_loss: 0.1883 - val_accuracy: 0.9224\n",
            "Epoch 71/100\n",
            "559/559 [==============================] - 32s 56ms/step - loss: 0.1464 - accuracy: 0.9390 - val_loss: 0.1896 - val_accuracy: 0.9238\n",
            "Epoch 72/100\n",
            "559/559 [==============================] - 31s 56ms/step - loss: 0.1469 - accuracy: 0.9382 - val_loss: 0.1885 - val_accuracy: 0.9225\n",
            "Epoch 73/100\n",
            "559/559 [==============================] - 32s 57ms/step - loss: 0.1447 - accuracy: 0.9394 - val_loss: 0.1891 - val_accuracy: 0.9216\n",
            "Epoch 74/100\n",
            "559/559 [==============================] - 32s 57ms/step - loss: 0.1418 - accuracy: 0.9416 - val_loss: 0.1887 - val_accuracy: 0.9221\n",
            "Epoch 75/100\n",
            "559/559 [==============================] - 32s 56ms/step - loss: 0.1442 - accuracy: 0.9398 - val_loss: 0.1916 - val_accuracy: 0.9215\n",
            "Epoch 76/100\n",
            "559/559 [==============================] - 32s 57ms/step - loss: 0.1432 - accuracy: 0.9400 - val_loss: 0.1880 - val_accuracy: 0.9233\n",
            "Epoch 77/100\n",
            "559/559 [==============================] - 31s 56ms/step - loss: 0.1431 - accuracy: 0.9407 - val_loss: 0.1887 - val_accuracy: 0.9234\n",
            "Epoch 78/100\n",
            "559/559 [==============================] - 31s 56ms/step - loss: 0.1418 - accuracy: 0.9419 - val_loss: 0.1909 - val_accuracy: 0.9206\n",
            "Epoch 79/100\n",
            "559/559 [==============================] - 31s 56ms/step - loss: 0.1398 - accuracy: 0.9422 - val_loss: 0.1916 - val_accuracy: 0.9225\n",
            "Epoch 80/100\n",
            "559/559 [==============================] - 31s 56ms/step - loss: 0.1376 - accuracy: 0.9428 - val_loss: 0.1914 - val_accuracy: 0.9222\n",
            "Epoch 81/100\n",
            "559/559 [==============================] - 31s 56ms/step - loss: 0.1395 - accuracy: 0.9426 - val_loss: 0.1910 - val_accuracy: 0.9222\n",
            "Epoch 82/100\n",
            "559/559 [==============================] - 31s 56ms/step - loss: 0.1368 - accuracy: 0.9435 - val_loss: 0.1938 - val_accuracy: 0.9223\n",
            "Epoch 83/100\n",
            "559/559 [==============================] - 32s 56ms/step - loss: 0.1394 - accuracy: 0.9408 - val_loss: 0.1940 - val_accuracy: 0.9213\n",
            "Epoch 84/100\n",
            "559/559 [==============================] - 32s 57ms/step - loss: 0.1380 - accuracy: 0.9429 - val_loss: 0.1923 - val_accuracy: 0.9227\n",
            "Epoch 85/100\n",
            "559/559 [==============================] - 32s 57ms/step - loss: 0.1350 - accuracy: 0.9431 - val_loss: 0.1927 - val_accuracy: 0.9218\n",
            "Epoch 86/100\n",
            "559/559 [==============================] - 32s 56ms/step - loss: 0.1330 - accuracy: 0.9439 - val_loss: 0.1914 - val_accuracy: 0.9224\n",
            "Epoch 87/100\n",
            "559/559 [==============================] - 31s 56ms/step - loss: 0.1339 - accuracy: 0.9439 - val_loss: 0.1949 - val_accuracy: 0.9234\n",
            "Epoch 88/100\n",
            "559/559 [==============================] - 32s 56ms/step - loss: 0.1365 - accuracy: 0.9427 - val_loss: 0.1917 - val_accuracy: 0.9232\n",
            "Epoch 89/100\n",
            "559/559 [==============================] - 31s 56ms/step - loss: 0.1306 - accuracy: 0.9459 - val_loss: 0.1928 - val_accuracy: 0.9236\n",
            "Epoch 90/100\n",
            "559/559 [==============================] - 31s 56ms/step - loss: 0.1301 - accuracy: 0.9456 - val_loss: 0.1922 - val_accuracy: 0.9241\n",
            "Epoch 91/100\n",
            "559/559 [==============================] - 32s 56ms/step - loss: 0.1328 - accuracy: 0.9451 - val_loss: 0.1920 - val_accuracy: 0.9231\n",
            "Epoch 92/100\n",
            "559/559 [==============================] - 31s 56ms/step - loss: 0.1328 - accuracy: 0.9438 - val_loss: 0.1959 - val_accuracy: 0.9223\n",
            "Epoch 93/100\n",
            "559/559 [==============================] - 31s 56ms/step - loss: 0.1283 - accuracy: 0.9462 - val_loss: 0.1930 - val_accuracy: 0.9236\n",
            "Epoch 94/100\n",
            "559/559 [==============================] - 32s 56ms/step - loss: 0.1282 - accuracy: 0.9464 - val_loss: 0.1927 - val_accuracy: 0.9233\n",
            "Epoch 95/100\n",
            "559/559 [==============================] - 31s 56ms/step - loss: 0.1313 - accuracy: 0.9451 - val_loss: 0.1962 - val_accuracy: 0.9231\n",
            "Epoch 96/100\n",
            "559/559 [==============================] - 31s 56ms/step - loss: 0.1288 - accuracy: 0.9470 - val_loss: 0.1958 - val_accuracy: 0.9235\n",
            "Epoch 97/100\n",
            "559/559 [==============================] - 31s 55ms/step - loss: 0.1264 - accuracy: 0.9480 - val_loss: 0.1957 - val_accuracy: 0.9222\n",
            "Epoch 98/100\n",
            "559/559 [==============================] - 31s 55ms/step - loss: 0.1270 - accuracy: 0.9475 - val_loss: 0.1943 - val_accuracy: 0.9250\n",
            "Epoch 99/100\n",
            "559/559 [==============================] - 31s 56ms/step - loss: 0.1281 - accuracy: 0.9461 - val_loss: 0.1979 - val_accuracy: 0.9232\n",
            "Epoch 100/100\n",
            "559/559 [==============================] - 31s 55ms/step - loss: 0.1266 - accuracy: 0.9474 - val_loss: 0.1975 - val_accuracy: 0.9232\n",
            "350/350 [==============================] - 8s 24ms/step - loss: 0.1960 - accuracy: 0.9241\n",
            "1398/1398 [==============================] - 34s 24ms/step - loss: 0.1111 - accuracy: 0.9563\n"
          ]
        },
        {
          "output_type": "display_data",
          "data": {
            "text/plain": [
              "<Figure size 640x480 with 1 Axes>"
            ],
            "image/png": "[encoded data removed]"
          },
          "metadata": {}
        },
        {
          "output_type": "display_data",
          "data": {
            "text/plain": [
              "<Figure size 640x480 with 0 Axes>"
            ]
          },
          "metadata": {}
        },
        {
          "output_type": "stream",
          "name": "stdout",
          "text": [
            "Test_loss_train_value = 0.11106845736503601\n",
            "test_accuracy_train = 0.9563388824462891\n",
            "Test_loss_value = 0.19602960348129272\n",
            "test_accuracy = 0.9241299033164978\n"
          ]
        }
      ]
    },
    {
      "cell_type": "code",
      "source": [
        "densenet_121.save_weights(filepath=\"/content/drive/MyDrive/Models/densenet121_mom/\", overwrite=True, save_format=None, options=None)"
      ],
      "metadata": {
        "id": "sSzV6XGcAPLf"
      },
      "execution_count": null,
      "outputs": []
    },
    {
      "cell_type": "markdown",
      "source": [
        "**Inception V3 Model**"
      ],
      "metadata": {
        "id": "VEifSbl0BdiA"
      }
    },
    {
      "cell_type": "code",
      "source": [
        "def create_inceptionV3():\n",
        "  base_model = InceptionV3(input_shape=(100,100,3), weights='imagenet', include_top=False)\n",
        "  model=Sequential()\n",
        "  model.add(base_model)\n",
        "  model.add(Dropout(0.2))\n",
        "  model.add(Flatten())\n",
        "  model.add(BatchNormalization())\n",
        "  model.add(Dense(1024,kernel_initializer='he_uniform'))\n",
        "  model.add(BatchNormalization())\n",
        "  model.add(Activation('relu'))\n",
        "  model.add(Dropout(0.2))\n",
        "  model.add(Dense(1024,kernel_initializer='he_uniform'))\n",
        "  model.add(BatchNormalization())\n",
        "  model.add(Activation('relu'))\n",
        "  model.add(Dropout(0.2))\n",
        "  model.add(Dense(1024,kernel_initializer='he_uniform'))\n",
        "  model.add(BatchNormalization())\n",
        "  model.add(Activation('relu'))\n",
        "  model.add(Dropout(0.2))\n",
        "  model.add(Dense(1024,kernel_initializer='he_uniform'))\n",
        "  model.add(BatchNormalization())\n",
        "  model.add(Activation('relu'))\n",
        "  model.add(Dropout(0.2))\n",
        "  model.add(Dense(1,activation='sigmoid'))\n",
        "  for layer in base_model.layers:\n",
        "      layer.trainable = False\n",
        "\n",
        "  #model.summary()\n",
        "\n",
        "  #es = EarlyStopping(monitor='val_loss', mode='min', patience=5,restore_best_weights=True, verbose=1)\n",
        "\n",
        "  device_name = tf.test.gpu_device_name()\n",
        "  if len(device_name) > 0:\n",
        "      print(\"Found GPU at: {}\".format(device_name))\n",
        "  else:\n",
        "      device_name = \"/device:CPU:0\"\n",
        "      print(\"No GPU, using {}.\".format(device_name))\n",
        "\n",
        "  with tf.device(device_name):\n",
        "    opt = tf.keras.optimizers.Adam(learning_rate=0.0005)\n",
        "    model.compile(optimizer=opt,loss='binary_crossentropy', metrics=['accuracy'])\n",
        "    #history = model.fit(x_train, y_train,validation_split=0.2,shuffle=True, epochs=25, batch_size=128,callbacks=[es])\n",
        "    history = model.fit(x_train, y_train,validation_split=0.2,shuffle=True, epochs=150, batch_size=128)\n",
        "    loss_value_test , accuracy_test = model.evaluate(x_test, y_test)\n",
        "    loss_value_train , accuracy_train = model.evaluate(x_train, y_train)\n",
        "\n",
        "  #Acc_Epochs_Plot(history)\n",
        "  print('Test_loss_train_value = ' +str(loss_value_train))\n",
        "  print('test_accuracy_train = ' + str(accuracy_train))\n",
        "\n",
        "  print('Test_loss_value = ' +str(loss_value_test))\n",
        "  print('test_accuracy = ' + str(accuracy_test))\n",
        "  return model"
      ],
      "metadata": {
        "id": "YlNnN-5QB55Y"
      },
      "execution_count": null,
      "outputs": []
    },
    {
      "cell_type": "code",
      "source": [
        "inception_v3 = create_inceptionV3()\n",
        "#inception_v3.save_weights(filepath=\"/content/drive/MyDrive/Models/inception_mom/\", overwrite=True, save_format=None, options=None)"
      ],
      "metadata": {
        "colab": {
          "base_uri": "https://localhost:8080/"
        },
        "id": "NnHPuodnCq9p",
        "outputId": "d2894473-ba91-4c83-a3d4-82089125f976"
      },
      "execution_count": null,
      "outputs": [
        {
          "output_type": "stream",
          "name": "stdout",
          "text": [
            "Found GPU at: /device:GPU:0\n",
            "Epoch 1/150\n",
            "280/280 [==============================] - 25s 62ms/step - loss: 0.2771 - accuracy: 0.8881 - val_loss: 0.3219 - val_accuracy: 0.8577\n",
            "Epoch 2/150\n",
            "280/280 [==============================] - 15s 55ms/step - loss: 0.2408 - accuracy: 0.9002 - val_loss: 0.2310 - val_accuracy: 0.9028\n",
            "Epoch 3/150\n",
            "280/280 [==============================] - 16s 55ms/step - loss: 0.2333 - accuracy: 0.9026 - val_loss: 0.2312 - val_accuracy: 0.9027\n",
            "Epoch 4/150\n",
            "280/280 [==============================] - 16s 56ms/step - loss: 0.2269 - accuracy: 0.9051 - val_loss: 0.2325 - val_accuracy: 0.9014\n",
            "Epoch 5/150\n",
            "280/280 [==============================] - 16s 56ms/step - loss: 0.2241 - accuracy: 0.9050 - val_loss: 0.2284 - val_accuracy: 0.9034\n",
            "Epoch 6/150\n",
            "280/280 [==============================] - 16s 56ms/step - loss: 0.2239 - accuracy: 0.9050 - val_loss: 0.2274 - val_accuracy: 0.9045\n",
            "Epoch 7/150\n",
            "280/280 [==============================] - 16s 56ms/step - loss: 0.2202 - accuracy: 0.9081 - val_loss: 0.2296 - val_accuracy: 0.9014\n",
            "Epoch 8/150\n",
            "280/280 [==============================] - 16s 57ms/step - loss: 0.2183 - accuracy: 0.9064 - val_loss: 0.2322 - val_accuracy: 0.9013\n",
            "Epoch 9/150\n",
            "280/280 [==============================] - 16s 57ms/step - loss: 0.2178 - accuracy: 0.9080 - val_loss: 0.2289 - val_accuracy: 0.9062\n",
            "Epoch 10/150\n",
            "280/280 [==============================] - 16s 57ms/step - loss: 0.2164 - accuracy: 0.9070 - val_loss: 0.2300 - val_accuracy: 0.9020\n",
            "Epoch 11/150\n",
            "280/280 [==============================] - 16s 57ms/step - loss: 0.2144 - accuracy: 0.9091 - val_loss: 0.2325 - val_accuracy: 0.9026\n",
            "Epoch 12/150\n",
            "280/280 [==============================] - 16s 57ms/step - loss: 0.2117 - accuracy: 0.9111 - val_loss: 0.2331 - val_accuracy: 0.9028\n",
            "Epoch 13/150\n",
            "280/280 [==============================] - 16s 57ms/step - loss: 0.2124 - accuracy: 0.9099 - val_loss: 0.2388 - val_accuracy: 0.9002\n",
            "Epoch 14/150\n",
            "280/280 [==============================] - 16s 57ms/step - loss: 0.2091 - accuracy: 0.9113 - val_loss: 0.2310 - val_accuracy: 0.9033\n",
            "Epoch 15/150\n",
            "280/280 [==============================] - 16s 58ms/step - loss: 0.2090 - accuracy: 0.9104 - val_loss: 0.2363 - val_accuracy: 0.9035\n",
            "Epoch 16/150\n",
            "280/280 [==============================] - 16s 58ms/step - loss: 0.2085 - accuracy: 0.9119 - val_loss: 0.2316 - val_accuracy: 0.9040\n",
            "Epoch 17/150\n",
            "280/280 [==============================] - 16s 58ms/step - loss: 0.2059 - accuracy: 0.9121 - val_loss: 0.2346 - val_accuracy: 0.9042\n",
            "Epoch 18/150\n",
            "280/280 [==============================] - 16s 58ms/step - loss: 0.2052 - accuracy: 0.9120 - val_loss: 0.2379 - val_accuracy: 0.9023\n",
            "Epoch 19/150\n",
            "280/280 [==============================] - 16s 58ms/step - loss: 0.2054 - accuracy: 0.9132 - val_loss: 0.2346 - val_accuracy: 0.9049\n",
            "Epoch 20/150\n",
            "280/280 [==============================] - 16s 58ms/step - loss: 0.2041 - accuracy: 0.9138 - val_loss: 0.2342 - val_accuracy: 0.9051\n",
            "Epoch 21/150\n",
            "280/280 [==============================] - 16s 58ms/step - loss: 0.2036 - accuracy: 0.9129 - val_loss: 0.2401 - val_accuracy: 0.9025\n",
            "Epoch 22/150\n",
            "280/280 [==============================] - 16s 58ms/step - loss: 0.2016 - accuracy: 0.9144 - val_loss: 0.2333 - val_accuracy: 0.9038\n",
            "Epoch 23/150\n",
            "280/280 [==============================] - 16s 58ms/step - loss: 0.2004 - accuracy: 0.9134 - val_loss: 0.2391 - val_accuracy: 0.9028\n",
            "Epoch 24/150\n",
            "280/280 [==============================] - 16s 59ms/step - loss: 0.1969 - accuracy: 0.9161 - val_loss: 0.2471 - val_accuracy: 0.9030\n",
            "Epoch 25/150\n",
            "280/280 [==============================] - 17s 59ms/step - loss: 0.1963 - accuracy: 0.9163 - val_loss: 0.2434 - val_accuracy: 0.9053\n",
            "Epoch 26/150\n",
            "280/280 [==============================] - 17s 59ms/step - loss: 0.1933 - accuracy: 0.9175 - val_loss: 0.2461 - val_accuracy: 0.9030\n",
            "Epoch 27/150\n",
            "280/280 [==============================] - 16s 59ms/step - loss: 0.1939 - accuracy: 0.9182 - val_loss: 0.2395 - val_accuracy: 0.9059\n",
            "Epoch 28/150\n",
            "280/280 [==============================] - 16s 58ms/step - loss: 0.1929 - accuracy: 0.9162 - val_loss: 0.2405 - val_accuracy: 0.9034\n",
            "Epoch 29/150\n",
            "280/280 [==============================] - 16s 58ms/step - loss: 0.1914 - accuracy: 0.9187 - val_loss: 0.2415 - val_accuracy: 0.9044\n",
            "Epoch 30/150\n",
            "280/280 [==============================] - 16s 59ms/step - loss: 0.1905 - accuracy: 0.9186 - val_loss: 0.2459 - val_accuracy: 0.9034\n",
            "Epoch 31/150\n",
            "280/280 [==============================] - 16s 58ms/step - loss: 0.1879 - accuracy: 0.9199 - val_loss: 0.2519 - val_accuracy: 0.9029\n",
            "Epoch 32/150\n",
            "280/280 [==============================] - 16s 59ms/step - loss: 0.1862 - accuracy: 0.9216 - val_loss: 0.2456 - val_accuracy: 0.9004\n",
            "Epoch 33/150\n",
            "280/280 [==============================] - 16s 59ms/step - loss: 0.1844 - accuracy: 0.9206 - val_loss: 0.2534 - val_accuracy: 0.9018\n",
            "Epoch 34/150\n",
            "280/280 [==============================] - 17s 59ms/step - loss: 0.1828 - accuracy: 0.9213 - val_loss: 0.2533 - val_accuracy: 0.9014\n",
            "Epoch 35/150\n",
            "280/280 [==============================] - 16s 58ms/step - loss: 0.1816 - accuracy: 0.9219 - val_loss: 0.2578 - val_accuracy: 0.9044\n",
            "Epoch 36/150\n",
            "280/280 [==============================] - 16s 58ms/step - loss: 0.1794 - accuracy: 0.9236 - val_loss: 0.2504 - val_accuracy: 0.9017\n",
            "Epoch 37/150\n",
            "280/280 [==============================] - 16s 58ms/step - loss: 0.1791 - accuracy: 0.9236 - val_loss: 0.2567 - val_accuracy: 0.9011\n",
            "Epoch 38/150\n",
            "280/280 [==============================] - 16s 58ms/step - loss: 0.1775 - accuracy: 0.9240 - val_loss: 0.2510 - val_accuracy: 0.9033\n",
            "Epoch 39/150\n",
            "280/280 [==============================] - 16s 58ms/step - loss: 0.1756 - accuracy: 0.9241 - val_loss: 0.2575 - val_accuracy: 0.9021\n",
            "Epoch 40/150\n",
            "280/280 [==============================] - 16s 58ms/step - loss: 0.1761 - accuracy: 0.9237 - val_loss: 0.2599 - val_accuracy: 0.9024\n",
            "Epoch 41/150\n",
            "280/280 [==============================] - 16s 58ms/step - loss: 0.1724 - accuracy: 0.9262 - val_loss: 0.2575 - val_accuracy: 0.9004\n",
            "Epoch 42/150\n",
            "280/280 [==============================] - 16s 58ms/step - loss: 0.1745 - accuracy: 0.9256 - val_loss: 0.2584 - val_accuracy: 0.9019\n",
            "Epoch 43/150\n",
            "280/280 [==============================] - 16s 58ms/step - loss: 0.1717 - accuracy: 0.9262 - val_loss: 0.2613 - val_accuracy: 0.9033\n",
            "Epoch 44/150\n",
            "280/280 [==============================] - 16s 58ms/step - loss: 0.1706 - accuracy: 0.9273 - val_loss: 0.2588 - val_accuracy: 0.9019\n",
            "Epoch 45/150\n",
            "280/280 [==============================] - 16s 58ms/step - loss: 0.1700 - accuracy: 0.9269 - val_loss: 0.2612 - val_accuracy: 0.9024\n",
            "Epoch 46/150\n",
            "280/280 [==============================] - 16s 58ms/step - loss: 0.1686 - accuracy: 0.9271 - val_loss: 0.2608 - val_accuracy: 0.9017\n",
            "Epoch 47/150\n",
            "280/280 [==============================] - 16s 58ms/step - loss: 0.1656 - accuracy: 0.9283 - val_loss: 0.2713 - val_accuracy: 0.9038\n",
            "Epoch 48/150\n",
            "280/280 [==============================] - 16s 58ms/step - loss: 0.1642 - accuracy: 0.9303 - val_loss: 0.2736 - val_accuracy: 0.9024\n",
            "Epoch 49/150\n",
            "280/280 [==============================] - 16s 58ms/step - loss: 0.1642 - accuracy: 0.9282 - val_loss: 0.2754 - val_accuracy: 0.9013\n",
            "Epoch 50/150\n",
            "280/280 [==============================] - 16s 58ms/step - loss: 0.1633 - accuracy: 0.9296 - val_loss: 0.2817 - val_accuracy: 0.9038\n",
            "Epoch 51/150\n",
            "280/280 [==============================] - 16s 58ms/step - loss: 0.1630 - accuracy: 0.9300 - val_loss: 0.2726 - val_accuracy: 0.9037\n",
            "Epoch 52/150\n",
            "280/280 [==============================] - 16s 58ms/step - loss: 0.1592 - accuracy: 0.9306 - val_loss: 0.2928 - val_accuracy: 0.8998\n",
            "Epoch 53/150\n",
            "280/280 [==============================] - 16s 58ms/step - loss: 0.1594 - accuracy: 0.9315 - val_loss: 0.2874 - val_accuracy: 0.8996\n",
            "Epoch 54/150\n",
            "280/280 [==============================] - 16s 58ms/step - loss: 0.1571 - accuracy: 0.9320 - val_loss: 0.2877 - val_accuracy: 0.9018\n",
            "Epoch 55/150\n",
            "280/280 [==============================] - 16s 58ms/step - loss: 0.1552 - accuracy: 0.9330 - val_loss: 0.2876 - val_accuracy: 0.9019\n",
            "Epoch 56/150\n",
            "280/280 [==============================] - 16s 58ms/step - loss: 0.1550 - accuracy: 0.9325 - val_loss: 0.2930 - val_accuracy: 0.9011\n",
            "Epoch 57/150\n",
            "280/280 [==============================] - 16s 58ms/step - loss: 0.1548 - accuracy: 0.9326 - val_loss: 0.2870 - val_accuracy: 0.9016\n",
            "Epoch 58/150\n",
            "280/280 [==============================] - 16s 58ms/step - loss: 0.1530 - accuracy: 0.9335 - val_loss: 0.2923 - val_accuracy: 0.9028\n",
            "Epoch 59/150\n",
            "280/280 [==============================] - 16s 58ms/step - loss: 0.1528 - accuracy: 0.9335 - val_loss: 0.2939 - val_accuracy: 0.9002\n",
            "Epoch 60/150\n",
            "280/280 [==============================] - 16s 58ms/step - loss: 0.1524 - accuracy: 0.9345 - val_loss: 0.2863 - val_accuracy: 0.9019\n",
            "Epoch 61/150\n",
            "280/280 [==============================] - 16s 58ms/step - loss: 0.1486 - accuracy: 0.9371 - val_loss: 0.3076 - val_accuracy: 0.9008\n",
            "Epoch 62/150\n",
            "280/280 [==============================] - 16s 58ms/step - loss: 0.1487 - accuracy: 0.9352 - val_loss: 0.3100 - val_accuracy: 0.8968\n",
            "Epoch 63/150\n",
            "280/280 [==============================] - 16s 58ms/step - loss: 0.1489 - accuracy: 0.9352 - val_loss: 0.2968 - val_accuracy: 0.9028\n",
            "Epoch 64/150\n",
            "280/280 [==============================] - 16s 58ms/step - loss: 0.1461 - accuracy: 0.9363 - val_loss: 0.3046 - val_accuracy: 0.8995\n",
            "Epoch 65/150\n",
            "280/280 [==============================] - 16s 58ms/step - loss: 0.1451 - accuracy: 0.9371 - val_loss: 0.3112 - val_accuracy: 0.9009\n",
            "Epoch 66/150\n",
            "280/280 [==============================] - 16s 58ms/step - loss: 0.1451 - accuracy: 0.9375 - val_loss: 0.2995 - val_accuracy: 0.9006\n",
            "Epoch 67/150\n",
            "280/280 [==============================] - 16s 58ms/step - loss: 0.1439 - accuracy: 0.9379 - val_loss: 0.2973 - val_accuracy: 0.9009\n",
            "Epoch 68/150\n",
            "280/280 [==============================] - 16s 58ms/step - loss: 0.1415 - accuracy: 0.9389 - val_loss: 0.2993 - val_accuracy: 0.9027\n",
            "Epoch 69/150\n",
            "280/280 [==============================] - 16s 58ms/step - loss: 0.1438 - accuracy: 0.9385 - val_loss: 0.2988 - val_accuracy: 0.9015\n",
            "Epoch 70/150\n",
            "280/280 [==============================] - 16s 58ms/step - loss: 0.1396 - accuracy: 0.9397 - val_loss: 0.3071 - val_accuracy: 0.8990\n",
            "Epoch 71/150\n",
            "280/280 [==============================] - 16s 58ms/step - loss: 0.1404 - accuracy: 0.9399 - val_loss: 0.3101 - val_accuracy: 0.9001\n",
            "Epoch 72/150\n",
            "280/280 [==============================] - 16s 58ms/step - loss: 0.1383 - accuracy: 0.9385 - val_loss: 0.3082 - val_accuracy: 0.8971\n",
            "Epoch 73/150\n",
            "280/280 [==============================] - 16s 58ms/step - loss: 0.1365 - accuracy: 0.9407 - val_loss: 0.3201 - val_accuracy: 0.9004\n",
            "Epoch 74/150\n",
            "280/280 [==============================] - 16s 58ms/step - loss: 0.1360 - accuracy: 0.9418 - val_loss: 0.3154 - val_accuracy: 0.9020\n",
            "Epoch 75/150\n",
            "280/280 [==============================] - 16s 58ms/step - loss: 0.1344 - accuracy: 0.9413 - val_loss: 0.3181 - val_accuracy: 0.8991\n",
            "Epoch 76/150\n",
            "280/280 [==============================] - 16s 59ms/step - loss: 0.1334 - accuracy: 0.9422 - val_loss: 0.3258 - val_accuracy: 0.9007\n",
            "Epoch 77/150\n",
            "280/280 [==============================] - 16s 58ms/step - loss: 0.1325 - accuracy: 0.9432 - val_loss: 0.3297 - val_accuracy: 0.8998\n",
            "Epoch 78/150\n",
            "280/280 [==============================] - 16s 58ms/step - loss: 0.1321 - accuracy: 0.9428 - val_loss: 0.3335 - val_accuracy: 0.9005\n",
            "Epoch 79/150\n",
            "280/280 [==============================] - 16s 58ms/step - loss: 0.1312 - accuracy: 0.9435 - val_loss: 0.3383 - val_accuracy: 0.9001\n",
            "Epoch 80/150\n",
            "280/280 [==============================] - 16s 58ms/step - loss: 0.1309 - accuracy: 0.9440 - val_loss: 0.3319 - val_accuracy: 0.9014\n",
            "Epoch 81/150\n",
            "280/280 [==============================] - 16s 58ms/step - loss: 0.1283 - accuracy: 0.9443 - val_loss: 0.3294 - val_accuracy: 0.8978\n",
            "Epoch 82/150\n",
            "280/280 [==============================] - 16s 58ms/step - loss: 0.1296 - accuracy: 0.9443 - val_loss: 0.3349 - val_accuracy: 0.9004\n",
            "Epoch 83/150\n",
            "280/280 [==============================] - 16s 58ms/step - loss: 0.1302 - accuracy: 0.9428 - val_loss: 0.3252 - val_accuracy: 0.9020\n",
            "Epoch 84/150\n",
            "280/280 [==============================] - 16s 58ms/step - loss: 0.1269 - accuracy: 0.9448 - val_loss: 0.3257 - val_accuracy: 0.8997\n",
            "Epoch 85/150\n",
            "280/280 [==============================] - 16s 58ms/step - loss: 0.1266 - accuracy: 0.9454 - val_loss: 0.3304 - val_accuracy: 0.8996\n",
            "Epoch 86/150\n",
            "280/280 [==============================] - 16s 58ms/step - loss: 0.1260 - accuracy: 0.9459 - val_loss: 0.3336 - val_accuracy: 0.8987\n",
            "Epoch 87/150\n",
            "280/280 [==============================] - 16s 58ms/step - loss: 0.1259 - accuracy: 0.9456 - val_loss: 0.3338 - val_accuracy: 0.9019\n",
            "Epoch 88/150\n",
            "280/280 [==============================] - 16s 58ms/step - loss: 0.1239 - accuracy: 0.9476 - val_loss: 0.3450 - val_accuracy: 0.9005\n",
            "Epoch 89/150\n",
            "280/280 [==============================] - 16s 58ms/step - loss: 0.1243 - accuracy: 0.9460 - val_loss: 0.3327 - val_accuracy: 0.9014\n",
            "Epoch 90/150\n",
            "280/280 [==============================] - 16s 58ms/step - loss: 0.1218 - accuracy: 0.9477 - val_loss: 0.3365 - val_accuracy: 0.9006\n",
            "Epoch 91/150\n",
            "280/280 [==============================] - 16s 58ms/step - loss: 0.1226 - accuracy: 0.9479 - val_loss: 0.3426 - val_accuracy: 0.8987\n",
            "Epoch 92/150\n",
            "280/280 [==============================] - 16s 58ms/step - loss: 0.1223 - accuracy: 0.9485 - val_loss: 0.3331 - val_accuracy: 0.9024\n",
            "Epoch 93/150\n",
            "280/280 [==============================] - 16s 58ms/step - loss: 0.1216 - accuracy: 0.9478 - val_loss: 0.3413 - val_accuracy: 0.9005\n",
            "Epoch 94/150\n",
            "280/280 [==============================] - 16s 58ms/step - loss: 0.1181 - accuracy: 0.9488 - val_loss: 0.3409 - val_accuracy: 0.9016\n",
            "Epoch 95/150\n",
            "280/280 [==============================] - 16s 58ms/step - loss: 0.1216 - accuracy: 0.9481 - val_loss: 0.3313 - val_accuracy: 0.8994\n",
            "Epoch 96/150\n",
            "280/280 [==============================] - 16s 58ms/step - loss: 0.1156 - accuracy: 0.9494 - val_loss: 0.3368 - val_accuracy: 0.8992\n",
            "Epoch 97/150\n",
            "280/280 [==============================] - 16s 58ms/step - loss: 0.1165 - accuracy: 0.9496 - val_loss: 0.3441 - val_accuracy: 0.9011\n",
            "Epoch 98/150\n",
            "280/280 [==============================] - 16s 58ms/step - loss: 0.1164 - accuracy: 0.9498 - val_loss: 0.3419 - val_accuracy: 0.8959\n",
            "Epoch 99/150\n",
            "280/280 [==============================] - 16s 58ms/step - loss: 0.1139 - accuracy: 0.9518 - val_loss: 0.3477 - val_accuracy: 0.9000\n",
            "Epoch 100/150\n",
            "280/280 [==============================] - 16s 58ms/step - loss: 0.1155 - accuracy: 0.9491 - val_loss: 0.3438 - val_accuracy: 0.8990\n",
            "Epoch 101/150\n",
            "280/280 [==============================] - 16s 58ms/step - loss: 0.1161 - accuracy: 0.9517 - val_loss: 0.3499 - val_accuracy: 0.8989\n",
            "Epoch 102/150\n",
            "280/280 [==============================] - 16s 58ms/step - loss: 0.1111 - accuracy: 0.9520 - val_loss: 0.3512 - val_accuracy: 0.8999\n",
            "Epoch 103/150\n",
            "280/280 [==============================] - 16s 58ms/step - loss: 0.1166 - accuracy: 0.9494 - val_loss: 0.3395 - val_accuracy: 0.8978\n",
            "Epoch 104/150\n",
            "280/280 [==============================] - 16s 58ms/step - loss: 0.1114 - accuracy: 0.9513 - val_loss: 0.3598 - val_accuracy: 0.8977\n",
            "Epoch 105/150\n",
            "280/280 [==============================] - 16s 58ms/step - loss: 0.1131 - accuracy: 0.9513 - val_loss: 0.3567 - val_accuracy: 0.8992\n",
            "Epoch 106/150\n",
            "280/280 [==============================] - 16s 58ms/step - loss: 0.1093 - accuracy: 0.9530 - val_loss: 0.3621 - val_accuracy: 0.8972\n",
            "Epoch 107/150\n",
            "280/280 [==============================] - 17s 59ms/step - loss: 0.1091 - accuracy: 0.9533 - val_loss: 0.3774 - val_accuracy: 0.9002\n",
            "Epoch 108/150\n",
            "280/280 [==============================] - 17s 59ms/step - loss: 0.1108 - accuracy: 0.9529 - val_loss: 0.3560 - val_accuracy: 0.8991\n",
            "Epoch 109/150\n",
            "280/280 [==============================] - 17s 60ms/step - loss: 0.1086 - accuracy: 0.9537 - val_loss: 0.3693 - val_accuracy: 0.8985\n",
            "Epoch 110/150\n",
            "280/280 [==============================] - 17s 59ms/step - loss: 0.1052 - accuracy: 0.9546 - val_loss: 0.3809 - val_accuracy: 0.8944\n",
            "Epoch 111/150\n",
            "280/280 [==============================] - 16s 59ms/step - loss: 0.1089 - accuracy: 0.9530 - val_loss: 0.3626 - val_accuracy: 0.8991\n",
            "Epoch 112/150\n",
            "280/280 [==============================] - 16s 59ms/step - loss: 0.1058 - accuracy: 0.9533 - val_loss: 0.3761 - val_accuracy: 0.8968\n",
            "Epoch 113/150\n",
            "280/280 [==============================] - 16s 59ms/step - loss: 0.1060 - accuracy: 0.9551 - val_loss: 0.3758 - val_accuracy: 0.8973\n",
            "Epoch 114/150\n",
            "280/280 [==============================] - 16s 59ms/step - loss: 0.1061 - accuracy: 0.9540 - val_loss: 0.3776 - val_accuracy: 0.8996\n",
            "Epoch 115/150\n",
            "280/280 [==============================] - 16s 59ms/step - loss: 0.1035 - accuracy: 0.9553 - val_loss: 0.3977 - val_accuracy: 0.8987\n",
            "Epoch 116/150\n",
            "280/280 [==============================] - 16s 59ms/step - loss: 0.1057 - accuracy: 0.9545 - val_loss: 0.3727 - val_accuracy: 0.8975\n",
            "Epoch 117/150\n",
            "280/280 [==============================] - 16s 58ms/step - loss: 0.1013 - accuracy: 0.9572 - val_loss: 0.3799 - val_accuracy: 0.8986\n",
            "Epoch 118/150\n",
            "280/280 [==============================] - 16s 59ms/step - loss: 0.1008 - accuracy: 0.9559 - val_loss: 0.3838 - val_accuracy: 0.8966\n",
            "Epoch 119/150\n",
            "280/280 [==============================] - 16s 59ms/step - loss: 0.0988 - accuracy: 0.9578 - val_loss: 0.3949 - val_accuracy: 0.8983\n",
            "Epoch 120/150\n",
            "280/280 [==============================] - 17s 59ms/step - loss: 0.0983 - accuracy: 0.9575 - val_loss: 0.3819 - val_accuracy: 0.8977\n",
            "Epoch 121/150\n",
            "280/280 [==============================] - 16s 59ms/step - loss: 0.0994 - accuracy: 0.9571 - val_loss: 0.3879 - val_accuracy: 0.8976\n",
            "Epoch 122/150\n",
            "280/280 [==============================] - 16s 59ms/step - loss: 0.1015 - accuracy: 0.9562 - val_loss: 0.3833 - val_accuracy: 0.8995\n",
            "Epoch 123/150\n",
            "280/280 [==============================] - 16s 58ms/step - loss: 0.1002 - accuracy: 0.9576 - val_loss: 0.3827 - val_accuracy: 0.8999\n",
            "Epoch 124/150\n",
            "280/280 [==============================] - 16s 59ms/step - loss: 0.0974 - accuracy: 0.9596 - val_loss: 0.3937 - val_accuracy: 0.8996\n",
            "Epoch 125/150\n",
            "280/280 [==============================] - 16s 59ms/step - loss: 0.0961 - accuracy: 0.9588 - val_loss: 0.3914 - val_accuracy: 0.8988\n",
            "Epoch 126/150\n",
            "280/280 [==============================] - 16s 58ms/step - loss: 0.0951 - accuracy: 0.9588 - val_loss: 0.3973 - val_accuracy: 0.8992\n",
            "Epoch 127/150\n",
            "280/280 [==============================] - 16s 59ms/step - loss: 0.0969 - accuracy: 0.9577 - val_loss: 0.4022 - val_accuracy: 0.8947\n",
            "Epoch 128/150\n",
            "280/280 [==============================] - 16s 59ms/step - loss: 0.0937 - accuracy: 0.9605 - val_loss: 0.4112 - val_accuracy: 0.8981\n",
            "Epoch 129/150\n",
            "280/280 [==============================] - 16s 59ms/step - loss: 0.0946 - accuracy: 0.9588 - val_loss: 0.4044 - val_accuracy: 0.8987\n",
            "Epoch 130/150\n",
            "280/280 [==============================] - 16s 59ms/step - loss: 0.0944 - accuracy: 0.9588 - val_loss: 0.3893 - val_accuracy: 0.8972\n",
            "Epoch 131/150\n",
            "280/280 [==============================] - 17s 59ms/step - loss: 0.0912 - accuracy: 0.9617 - val_loss: 0.4115 - val_accuracy: 0.8995\n",
            "Epoch 132/150\n",
            "280/280 [==============================] - 17s 59ms/step - loss: 0.0937 - accuracy: 0.9607 - val_loss: 0.4004 - val_accuracy: 0.8968\n",
            "Epoch 133/150\n",
            "280/280 [==============================] - 17s 59ms/step - loss: 0.0925 - accuracy: 0.9600 - val_loss: 0.3975 - val_accuracy: 0.8960\n",
            "Epoch 134/150\n",
            "280/280 [==============================] - 16s 59ms/step - loss: 0.0910 - accuracy: 0.9609 - val_loss: 0.4125 - val_accuracy: 0.8961\n",
            "Epoch 135/150\n",
            "280/280 [==============================] - 16s 58ms/step - loss: 0.0901 - accuracy: 0.9619 - val_loss: 0.4356 - val_accuracy: 0.8973\n",
            "Epoch 136/150\n",
            "280/280 [==============================] - 16s 59ms/step - loss: 0.0904 - accuracy: 0.9621 - val_loss: 0.4295 - val_accuracy: 0.8932\n",
            "Epoch 137/150\n",
            "280/280 [==============================] - 17s 59ms/step - loss: 0.0893 - accuracy: 0.9613 - val_loss: 0.4232 - val_accuracy: 0.8930\n",
            "Epoch 138/150\n",
            "280/280 [==============================] - 16s 59ms/step - loss: 0.0906 - accuracy: 0.9611 - val_loss: 0.4205 - val_accuracy: 0.8963\n",
            "Epoch 139/150\n",
            "280/280 [==============================] - 16s 58ms/step - loss: 0.0867 - accuracy: 0.9630 - val_loss: 0.4219 - val_accuracy: 0.8969\n",
            "Epoch 140/150\n",
            "280/280 [==============================] - 16s 59ms/step - loss: 0.0883 - accuracy: 0.9630 - val_loss: 0.4213 - val_accuracy: 0.8972\n",
            "Epoch 141/150\n",
            "280/280 [==============================] - 16s 59ms/step - loss: 0.0882 - accuracy: 0.9627 - val_loss: 0.4230 - val_accuracy: 0.8970\n",
            "Epoch 142/150\n",
            "280/280 [==============================] - 16s 58ms/step - loss: 0.0868 - accuracy: 0.9627 - val_loss: 0.4222 - val_accuracy: 0.8948\n",
            "Epoch 143/150\n",
            "280/280 [==============================] - 16s 58ms/step - loss: 0.0866 - accuracy: 0.9627 - val_loss: 0.4223 - val_accuracy: 0.8963\n",
            "Epoch 144/150\n",
            "280/280 [==============================] - 16s 59ms/step - loss: 0.0849 - accuracy: 0.9644 - val_loss: 0.4402 - val_accuracy: 0.8917\n",
            "Epoch 145/150\n",
            "280/280 [==============================] - 16s 59ms/step - loss: 0.0858 - accuracy: 0.9640 - val_loss: 0.4293 - val_accuracy: 0.8980\n",
            "Epoch 146/150\n",
            "280/280 [==============================] - 16s 59ms/step - loss: 0.0850 - accuracy: 0.9640 - val_loss: 0.4178 - val_accuracy: 0.8957\n",
            "Epoch 147/150\n",
            "280/280 [==============================] - 16s 59ms/step - loss: 0.0837 - accuracy: 0.9645 - val_loss: 0.4084 - val_accuracy: 0.8969\n",
            "Epoch 148/150\n",
            "280/280 [==============================] - 16s 59ms/step - loss: 0.0842 - accuracy: 0.9648 - val_loss: 0.4140 - val_accuracy: 0.8994\n",
            "Epoch 149/150\n",
            "280/280 [==============================] - 16s 58ms/step - loss: 0.0841 - accuracy: 0.9643 - val_loss: 0.4233 - val_accuracy: 0.8982\n",
            "Epoch 150/150\n",
            "280/280 [==============================] - 16s 58ms/step - loss: 0.0817 - accuracy: 0.9656 - val_loss: 0.4308 - val_accuracy: 0.8975\n",
            "350/350 [==============================] - 6s 17ms/step - loss: 0.4187 - accuracy: 0.8958\n",
            "1398/1398 [==============================] - 24s 17ms/step - loss: 0.1200 - accuracy: 0.9664\n"
          ]
        },
        {
          "output_type": "display_data",
          "data": {
            "text/plain": [
              "<Figure size 640x480 with 1 Axes>"
            ],
            "image/png": "[encoded data removed]"
          },
          "metadata": {}
        },
        {
          "output_type": "display_data",
          "data": {
            "text/plain": [
              "<Figure size 640x480 with 0 Axes>"
            ]
          },
          "metadata": {}
        },
        {
          "output_type": "stream",
          "name": "stdout",
          "text": [
            "Test_loss_train_value = 0.11997931450605392\n",
            "test_accuracy_train = 0.966381847858429\n",
            "Test_loss_value = 0.4186754524707794\n",
            "test_accuracy = 0.8957681059837341\n"
          ]
        }
      ]
    },
    {
      "cell_type": "markdown",
      "source": [
        "#**Comparing between the models**"
      ],
      "metadata": {
        "id": "7n33yCfGazeZ"
      }
    },
    {
      "cell_type": "code",
      "source": [
        "base_model = DenseNet121(input_shape=(100,100,3), weights='imagenet', include_top=False)\n",
        "model=Sequential()\n",
        "model.add(base_model)\n",
        "model.add(Dropout(0.2))\n",
        "model.add(Flatten())\n",
        "model.add(BatchNormalization())\n",
        "model.add(Dense(1024,kernel_initializer='he_uniform'))\n",
        "model.add(BatchNormalization())\n",
        "model.add(Activation('relu'))\n",
        "model.add(Dropout(0.2))\n",
        "model.add(Dense(1024,kernel_initializer='he_uniform'))\n",
        "model.add(BatchNormalization())\n",
        "model.add(Activation('relu'))\n",
        "model.add(Dropout(0.2))\n",
        "model.add(Dense(1024,kernel_initializer='he_uniform'))\n",
        "model.add(BatchNormalization())\n",
        "model.add(Activation('relu'))\n",
        "model.add(Dropout(0.2))\n",
        "model.add(Dense(1024,kernel_initializer='he_uniform'))\n",
        "model.add(BatchNormalization())\n",
        "model.add(Activation('relu'))\n",
        "model.add(Dropout(0.2))\n",
        "model.add(Dense(1,activation='sigmoid'))\n",
        "\n",
        "for layer in base_model.layers:\n",
        "    layer.trainable = False\n",
        "\n",
        "  #model.summary()\n",
        "\n",
        "  #es = EarlyStopping(monitor='val_loss', mode='min', patience=5,restore_best_weights=True, verbose=1)\n",
        "\n",
        "device_name = tf.test.gpu_device_name()\n",
        "if len(device_name) > 0:\n",
        "    print(\"Found GPU at: {}\".format(device_name))\n",
        "else:\n",
        "    device_name = \"/device:CPU:0\"\n",
        "    print(\"No GPU, using {}.\".format(device_name))\n",
        "\n",
        "with tf.device(device_name):\n",
        "    opt = tf.keras.optimizers.Adam(learning_rate=0.000005)\n",
        "    model.compile(optimizer=opt,loss='binary_crossentropy', metrics=['accuracy'])\n",
        "    history1 = model.fit(x_train, y_train,validation_split=0.2,shuffle=True, epochs=50, batch_size=64)\n",
        "\n",
        "\n",
        "\n",
        "base_model = InceptionV3(input_shape=(100,100,3), weights='imagenet', include_top=False)\n",
        "model=Sequential()\n",
        "model.add(base_model)\n",
        "model.add(Dropout(0.2))\n",
        "model.add(Flatten())\n",
        "model.add(BatchNormalization())\n",
        "model.add(Dense(1024,kernel_initializer='he_uniform'))\n",
        "model.add(BatchNormalization())\n",
        "model.add(Activation('relu'))\n",
        "model.add(Dropout(0.2))\n",
        "model.add(Dense(1024,kernel_initializer='he_uniform'))\n",
        "model.add(BatchNormalization())\n",
        "model.add(Activation('relu'))\n",
        "model.add(Dropout(0.2))\n",
        "model.add(Dense(1024,kernel_initializer='he_uniform'))\n",
        "model.add(BatchNormalization())\n",
        "model.add(Activation('relu'))\n",
        "model.add(Dropout(0.2))\n",
        "model.add(Dense(1024,kernel_initializer='he_uniform'))\n",
        "model.add(BatchNormalization())\n",
        "model.add(Activation('relu'))\n",
        "model.add(Dropout(0.2))\n",
        "model.add(Dense(1,activation='sigmoid'))\n",
        "for layer in base_model.layers:\n",
        "    layer.trainable = False\n",
        "\n",
        "device_name = tf.test.gpu_device_name()\n",
        "if len(device_name) > 0:\n",
        "    print(\"Found GPU at: {}\".format(device_name))\n",
        "else:\n",
        "    device_name = \"/device:CPU:0\"\n",
        "    print(\"No GPU, using {}.\".format(device_name))\n",
        "\n",
        "with tf.device(device_name):\n",
        "    opt = tf.keras.optimizers.Adam(learning_rate=0.0005)\n",
        "    model.compile(optimizer=opt,loss='binary_crossentropy', metrics=['accuracy'])\n",
        "    history2 = model.fit(x_train, y_train,validation_split=0.2,shuffle=True, epochs=50, batch_size=64)\n",
        "\n",
        "Acc_DenseNet121_VS_Inception_Plot(history1,history2)\n"
      ],
      "metadata": {
        "colab": {
          "base_uri": "https://localhost:8080/",
          "height": 1000
        },
        "id": "SGvINyRWa2qH",
        "outputId": "5a3b535f-268d-4b96-e8d8-f435a4a9563c"
      },
      "execution_count": null,
      "outputs": [
        {
          "output_type": "stream",
          "name": "stdout",
          "text": [
            "Downloading data from https://storage.googleapis.com/tensorflow/keras-applications/densenet/densenet121_weights_tf_dim_ordering_tf_kernels_notop.h5\n",
            "29084464/29084464 [==============================] - 2s 0us/step\n",
            "Found GPU at: /device:GPU:0\n",
            "Epoch 1/50\n",
            "559/559 [==============================] - 55s 66ms/step - loss: 0.7959 - accuracy: 0.5414 - val_loss: 0.5519 - val_accuracy: 0.7932\n",
            "Epoch 2/50\n",
            "559/559 [==============================] - 32s 57ms/step - loss: 0.4927 - accuracy: 0.7899 - val_loss: 0.4134 - val_accuracy: 0.8631\n",
            "Epoch 3/50\n",
            "559/559 [==============================] - 33s 58ms/step - loss: 0.3734 - accuracy: 0.8550 - val_loss: 0.3374 - val_accuracy: 0.8755\n",
            "Epoch 4/50\n",
            "559/559 [==============================] - 32s 58ms/step - loss: 0.3218 - accuracy: 0.8730 - val_loss: 0.2950 - val_accuracy: 0.8822\n",
            "Epoch 5/50\n",
            "559/559 [==============================] - 32s 58ms/step - loss: 0.2933 - accuracy: 0.8822 - val_loss: 0.2718 - val_accuracy: 0.8887\n",
            "Epoch 6/50\n",
            "559/559 [==============================] - 32s 58ms/step - loss: 0.2796 - accuracy: 0.8842 - val_loss: 0.2562 - val_accuracy: 0.8915\n",
            "Epoch 7/50\n",
            "559/559 [==============================] - 32s 58ms/step - loss: 0.2686 - accuracy: 0.8888 - val_loss: 0.2415 - val_accuracy: 0.8958\n",
            "Epoch 8/50\n",
            "559/559 [==============================] - 33s 58ms/step - loss: 0.2598 - accuracy: 0.8908 - val_loss: 0.2367 - val_accuracy: 0.8964\n",
            "Epoch 9/50\n",
            "559/559 [==============================] - 33s 59ms/step - loss: 0.2534 - accuracy: 0.8925 - val_loss: 0.2262 - val_accuracy: 0.9026\n",
            "Epoch 10/50\n",
            "559/559 [==============================] - 32s 58ms/step - loss: 0.2470 - accuracy: 0.8967 - val_loss: 0.2262 - val_accuracy: 0.9028\n",
            "Epoch 11/50\n",
            "559/559 [==============================] - 33s 58ms/step - loss: 0.2399 - accuracy: 0.8992 - val_loss: 0.2194 - val_accuracy: 0.9067\n",
            "Epoch 12/50\n",
            "559/559 [==============================] - 32s 58ms/step - loss: 0.2376 - accuracy: 0.9009 - val_loss: 0.2188 - val_accuracy: 0.9066\n",
            "Epoch 13/50\n",
            "559/559 [==============================] - 32s 58ms/step - loss: 0.2309 - accuracy: 0.9036 - val_loss: 0.2137 - val_accuracy: 0.9084\n",
            "Epoch 14/50\n",
            "559/559 [==============================] - 32s 58ms/step - loss: 0.2292 - accuracy: 0.9050 - val_loss: 0.2130 - val_accuracy: 0.9104\n",
            "Epoch 15/50\n",
            "559/559 [==============================] - 32s 58ms/step - loss: 0.2232 - accuracy: 0.9064 - val_loss: 0.2100 - val_accuracy: 0.9109\n",
            "Epoch 16/50\n",
            "559/559 [==============================] - 32s 58ms/step - loss: 0.2212 - accuracy: 0.9074 - val_loss: 0.2109 - val_accuracy: 0.9099\n",
            "Epoch 17/50\n",
            "559/559 [==============================] - 32s 58ms/step - loss: 0.2205 - accuracy: 0.9065 - val_loss: 0.2076 - val_accuracy: 0.9114\n",
            "Epoch 18/50\n",
            "559/559 [==============================] - 33s 58ms/step - loss: 0.2142 - accuracy: 0.9094 - val_loss: 0.2080 - val_accuracy: 0.9125\n",
            "Epoch 19/50\n",
            "559/559 [==============================] - 32s 58ms/step - loss: 0.2137 - accuracy: 0.9112 - val_loss: 0.2039 - val_accuracy: 0.9150\n",
            "Epoch 20/50\n",
            "559/559 [==============================] - 32s 58ms/step - loss: 0.2109 - accuracy: 0.9115 - val_loss: 0.2042 - val_accuracy: 0.9152\n",
            "Epoch 21/50\n",
            "559/559 [==============================] - 32s 58ms/step - loss: 0.2097 - accuracy: 0.9118 - val_loss: 0.2014 - val_accuracy: 0.9160\n",
            "Epoch 22/50\n",
            "559/559 [==============================] - 32s 58ms/step - loss: 0.2091 - accuracy: 0.9114 - val_loss: 0.2003 - val_accuracy: 0.9162\n",
            "Epoch 23/50\n",
            "559/559 [==============================] - 32s 58ms/step - loss: 0.2052 - accuracy: 0.9141 - val_loss: 0.2002 - val_accuracy: 0.9166\n",
            "Epoch 24/50\n",
            "559/559 [==============================] - 32s 58ms/step - loss: 0.2020 - accuracy: 0.9159 - val_loss: 0.1998 - val_accuracy: 0.9169\n",
            "Epoch 25/50\n",
            "559/559 [==============================] - 32s 58ms/step - loss: 0.1997 - accuracy: 0.9182 - val_loss: 0.2001 - val_accuracy: 0.9179\n",
            "Epoch 26/50\n",
            "559/559 [==============================] - 32s 58ms/step - loss: 0.1972 - accuracy: 0.9179 - val_loss: 0.1979 - val_accuracy: 0.9181\n",
            "Epoch 27/50\n",
            "559/559 [==============================] - 32s 58ms/step - loss: 0.1967 - accuracy: 0.9169 - val_loss: 0.1989 - val_accuracy: 0.9183\n",
            "Epoch 28/50\n",
            "559/559 [==============================] - 32s 58ms/step - loss: 0.1954 - accuracy: 0.9182 - val_loss: 0.1967 - val_accuracy: 0.9198\n",
            "Epoch 29/50\n",
            "559/559 [==============================] - 33s 58ms/step - loss: 0.1948 - accuracy: 0.9178 - val_loss: 0.1958 - val_accuracy: 0.9187\n",
            "Epoch 30/50\n",
            "559/559 [==============================] - 33s 58ms/step - loss: 0.1917 - accuracy: 0.9196 - val_loss: 0.1951 - val_accuracy: 0.9181\n",
            "Epoch 31/50\n",
            "559/559 [==============================] - 32s 58ms/step - loss: 0.1899 - accuracy: 0.9198 - val_loss: 0.1977 - val_accuracy: 0.9194\n",
            "Epoch 32/50\n",
            "559/559 [==============================] - 32s 58ms/step - loss: 0.1891 - accuracy: 0.9212 - val_loss: 0.1941 - val_accuracy: 0.9197\n",
            "Epoch 33/50\n",
            "559/559 [==============================] - 32s 58ms/step - loss: 0.1892 - accuracy: 0.9206 - val_loss: 0.1953 - val_accuracy: 0.9195\n",
            "Epoch 34/50\n",
            "559/559 [==============================] - 33s 58ms/step - loss: 0.1883 - accuracy: 0.9210 - val_loss: 0.1927 - val_accuracy: 0.9209\n",
            "Epoch 35/50\n",
            "559/559 [==============================] - 32s 58ms/step - loss: 0.1828 - accuracy: 0.9227 - val_loss: 0.1913 - val_accuracy: 0.9214\n",
            "Epoch 36/50\n",
            "559/559 [==============================] - 32s 58ms/step - loss: 0.1847 - accuracy: 0.9231 - val_loss: 0.1923 - val_accuracy: 0.9209\n",
            "Epoch 37/50\n",
            "559/559 [==============================] - 32s 58ms/step - loss: 0.1846 - accuracy: 0.9225 - val_loss: 0.1914 - val_accuracy: 0.9207\n",
            "Epoch 38/50\n",
            "559/559 [==============================] - 33s 59ms/step - loss: 0.1794 - accuracy: 0.9249 - val_loss: 0.1902 - val_accuracy: 0.9223\n",
            "Epoch 39/50\n",
            "559/559 [==============================] - 32s 58ms/step - loss: 0.1801 - accuracy: 0.9253 - val_loss: 0.1912 - val_accuracy: 0.9223\n",
            "Epoch 40/50\n",
            "559/559 [==============================] - 32s 58ms/step - loss: 0.1807 - accuracy: 0.9238 - val_loss: 0.1895 - val_accuracy: 0.9219\n",
            "Epoch 41/50\n",
            "559/559 [==============================] - 32s 58ms/step - loss: 0.1770 - accuracy: 0.9276 - val_loss: 0.1902 - val_accuracy: 0.9215\n",
            "Epoch 42/50\n",
            "559/559 [==============================] - 32s 58ms/step - loss: 0.1749 - accuracy: 0.9279 - val_loss: 0.1896 - val_accuracy: 0.9223\n",
            "Epoch 43/50\n",
            "559/559 [==============================] - 33s 58ms/step - loss: 0.1748 - accuracy: 0.9260 - val_loss: 0.1919 - val_accuracy: 0.9215\n",
            "Epoch 44/50\n",
            "559/559 [==============================] - 32s 58ms/step - loss: 0.1763 - accuracy: 0.9286 - val_loss: 0.1908 - val_accuracy: 0.9224\n",
            "Epoch 45/50\n",
            "559/559 [==============================] - 32s 58ms/step - loss: 0.1737 - accuracy: 0.9280 - val_loss: 0.1895 - val_accuracy: 0.9223\n",
            "Epoch 46/50\n",
            "559/559 [==============================] - 37s 66ms/step - loss: 0.1707 - accuracy: 0.9286 - val_loss: 0.1883 - val_accuracy: 0.9233\n",
            "Epoch 47/50\n",
            "559/559 [==============================] - 32s 58ms/step - loss: 0.1716 - accuracy: 0.9283 - val_loss: 0.1905 - val_accuracy: 0.9221\n",
            "Epoch 48/50\n",
            "559/559 [==============================] - 32s 58ms/step - loss: 0.1702 - accuracy: 0.9292 - val_loss: 0.1880 - val_accuracy: 0.9241\n",
            "Epoch 49/50\n",
            "559/559 [==============================] - 32s 58ms/step - loss: 0.1691 - accuracy: 0.9299 - val_loss: 0.1870 - val_accuracy: 0.9235\n",
            "Epoch 50/50\n",
            "559/559 [==============================] - 32s 58ms/step - loss: 0.1690 - accuracy: 0.9285 - val_loss: 0.1896 - val_accuracy: 0.9225\n",
            "Downloading data from https://storage.googleapis.com/tensorflow/keras-applications/inception_v3/inception_v3_weights_tf_dim_ordering_tf_kernels_notop.h5\n",
            "87910968/87910968 [==============================] - 4s 0us/step\n",
            "Found GPU at: /device:GPU:0\n",
            "Epoch 1/50\n",
            "559/559 [==============================] - 33s 44ms/step - loss: 0.2799 - accuracy: 0.8852 - val_loss: 0.2446 - val_accuracy: 0.9004\n",
            "Epoch 2/50\n",
            "559/559 [==============================] - 21s 37ms/step - loss: 0.2464 - accuracy: 0.8970 - val_loss: 0.2442 - val_accuracy: 0.8943\n",
            "Epoch 3/50\n",
            "559/559 [==============================] - 21s 37ms/step - loss: 0.2382 - accuracy: 0.8993 - val_loss: 0.2344 - val_accuracy: 0.9036\n",
            "Epoch 4/50\n",
            "559/559 [==============================] - 20s 37ms/step - loss: 0.2363 - accuracy: 0.8998 - val_loss: 0.2311 - val_accuracy: 0.9038\n",
            "Epoch 5/50\n",
            "559/559 [==============================] - 21s 37ms/step - loss: 0.2327 - accuracy: 0.9024 - val_loss: 0.2417 - val_accuracy: 0.8977\n",
            "Epoch 6/50\n",
            "559/559 [==============================] - 21s 37ms/step - loss: 0.2318 - accuracy: 0.9007 - val_loss: 0.2297 - val_accuracy: 0.9027\n",
            "Epoch 7/50\n",
            "559/559 [==============================] - 21s 37ms/step - loss: 0.2307 - accuracy: 0.9022 - val_loss: 0.2329 - val_accuracy: 0.9037\n",
            "Epoch 8/50\n",
            "559/559 [==============================] - 21s 37ms/step - loss: 0.2296 - accuracy: 0.9033 - val_loss: 0.2308 - val_accuracy: 0.9052\n",
            "Epoch 9/50\n",
            "559/559 [==============================] - 21s 37ms/step - loss: 0.2270 - accuracy: 0.9038 - val_loss: 0.2270 - val_accuracy: 0.9026\n",
            "Epoch 10/50\n",
            "559/559 [==============================] - 21s 37ms/step - loss: 0.2255 - accuracy: 0.9042 - val_loss: 0.2303 - val_accuracy: 0.9018\n",
            "Epoch 11/50\n",
            "559/559 [==============================] - 21s 37ms/step - loss: 0.2259 - accuracy: 0.9051 - val_loss: 0.2418 - val_accuracy: 0.8973\n",
            "Epoch 12/50\n",
            "559/559 [==============================] - 21s 37ms/step - loss: 0.2230 - accuracy: 0.9037 - val_loss: 0.2326 - val_accuracy: 0.9028\n",
            "Epoch 13/50\n",
            "559/559 [==============================] - 21s 37ms/step - loss: 0.2204 - accuracy: 0.9068 - val_loss: 0.2291 - val_accuracy: 0.9059\n",
            "Epoch 14/50\n",
            "559/559 [==============================] - 21s 37ms/step - loss: 0.2217 - accuracy: 0.9054 - val_loss: 0.2280 - val_accuracy: 0.9066\n",
            "Epoch 15/50\n",
            "559/559 [==============================] - 21s 37ms/step - loss: 0.2196 - accuracy: 0.9077 - val_loss: 0.2273 - val_accuracy: 0.9073\n",
            "Epoch 16/50\n",
            "559/559 [==============================] - 21s 37ms/step - loss: 0.2172 - accuracy: 0.9085 - val_loss: 0.2342 - val_accuracy: 0.9067\n",
            "Epoch 17/50\n",
            "559/559 [==============================] - 21s 37ms/step - loss: 0.2167 - accuracy: 0.9078 - val_loss: 0.2352 - val_accuracy: 0.9045\n",
            "Epoch 18/50\n",
            "559/559 [==============================] - 21s 37ms/step - loss: 0.2162 - accuracy: 0.9092 - val_loss: 0.2327 - val_accuracy: 0.9042\n",
            "Epoch 19/50\n",
            "559/559 [==============================] - 21s 37ms/step - loss: 0.2133 - accuracy: 0.9078 - val_loss: 0.2315 - val_accuracy: 0.9068\n",
            "Epoch 20/50\n",
            "559/559 [==============================] - 21s 37ms/step - loss: 0.2118 - accuracy: 0.9100 - val_loss: 0.2349 - val_accuracy: 0.9054\n",
            "Epoch 21/50\n",
            "559/559 [==============================] - 21s 37ms/step - loss: 0.2125 - accuracy: 0.9090 - val_loss: 0.2302 - val_accuracy: 0.9068\n",
            "Epoch 22/50\n",
            "559/559 [==============================] - 21s 37ms/step - loss: 0.2098 - accuracy: 0.9094 - val_loss: 0.2358 - val_accuracy: 0.9051\n",
            "Epoch 23/50\n",
            "559/559 [==============================] - 22s 40ms/step - loss: 0.2067 - accuracy: 0.9131 - val_loss: 0.2338 - val_accuracy: 0.9047\n",
            "Epoch 24/50\n",
            "559/559 [==============================] - 21s 37ms/step - loss: 0.2074 - accuracy: 0.9117 - val_loss: 0.2352 - val_accuracy: 0.9020\n",
            "Epoch 25/50\n",
            "559/559 [==============================] - 21s 37ms/step - loss: 0.2036 - accuracy: 0.9134 - val_loss: 0.2374 - val_accuracy: 0.9038\n",
            "Epoch 26/50\n",
            "559/559 [==============================] - 21s 37ms/step - loss: 0.2027 - accuracy: 0.9126 - val_loss: 0.2387 - val_accuracy: 0.9044\n",
            "Epoch 27/50\n",
            "559/559 [==============================] - 21s 37ms/step - loss: 0.2017 - accuracy: 0.9136 - val_loss: 0.2412 - val_accuracy: 0.9030\n",
            "Epoch 28/50\n",
            "559/559 [==============================] - 21s 37ms/step - loss: 0.2009 - accuracy: 0.9137 - val_loss: 0.2384 - val_accuracy: 0.9028\n",
            "Epoch 29/50\n",
            "559/559 [==============================] - 21s 37ms/step - loss: 0.2009 - accuracy: 0.9137 - val_loss: 0.2458 - val_accuracy: 0.9008\n",
            "Epoch 30/50\n",
            "559/559 [==============================] - 21s 37ms/step - loss: 0.1975 - accuracy: 0.9144 - val_loss: 0.2436 - val_accuracy: 0.9045\n",
            "Epoch 31/50\n",
            "559/559 [==============================] - 21s 37ms/step - loss: 0.1955 - accuracy: 0.9162 - val_loss: 0.2431 - val_accuracy: 0.9038\n",
            "Epoch 32/50\n",
            "559/559 [==============================] - 21s 37ms/step - loss: 0.1947 - accuracy: 0.9165 - val_loss: 0.2488 - val_accuracy: 0.9026\n",
            "Epoch 33/50\n",
            "559/559 [==============================] - 21s 37ms/step - loss: 0.1968 - accuracy: 0.9148 - val_loss: 0.2420 - val_accuracy: 0.9033\n",
            "Epoch 34/50\n",
            "559/559 [==============================] - 21s 37ms/step - loss: 0.1905 - accuracy: 0.9172 - val_loss: 0.2467 - val_accuracy: 0.9032\n",
            "Epoch 35/50\n",
            "559/559 [==============================] - 21s 37ms/step - loss: 0.1903 - accuracy: 0.9185 - val_loss: 0.2476 - val_accuracy: 0.9013\n",
            "Epoch 36/50\n",
            "559/559 [==============================] - 21s 37ms/step - loss: 0.1908 - accuracy: 0.9183 - val_loss: 0.2493 - val_accuracy: 0.9036\n",
            "Epoch 37/50\n",
            "559/559 [==============================] - 21s 37ms/step - loss: 0.1882 - accuracy: 0.9186 - val_loss: 0.2580 - val_accuracy: 0.9026\n",
            "Epoch 38/50\n",
            "559/559 [==============================] - 21s 37ms/step - loss: 0.1883 - accuracy: 0.9196 - val_loss: 0.2484 - val_accuracy: 0.9026\n",
            "Epoch 39/50\n",
            "559/559 [==============================] - 21s 37ms/step - loss: 0.1866 - accuracy: 0.9195 - val_loss: 0.2449 - val_accuracy: 0.9025\n",
            "Epoch 40/50\n",
            "559/559 [==============================] - 21s 37ms/step - loss: 0.1835 - accuracy: 0.9208 - val_loss: 0.2579 - val_accuracy: 0.9004\n",
            "Epoch 41/50\n",
            "559/559 [==============================] - 21s 37ms/step - loss: 0.1825 - accuracy: 0.9207 - val_loss: 0.2531 - val_accuracy: 0.9027\n",
            "Epoch 42/50\n",
            "559/559 [==============================] - 21s 37ms/step - loss: 0.1814 - accuracy: 0.9208 - val_loss: 0.2537 - val_accuracy: 0.9065\n",
            "Epoch 43/50\n",
            "559/559 [==============================] - 21s 37ms/step - loss: 0.1830 - accuracy: 0.9209 - val_loss: 0.2553 - val_accuracy: 0.9037\n",
            "Epoch 44/50\n",
            "559/559 [==============================] - 21s 37ms/step - loss: 0.1810 - accuracy: 0.9214 - val_loss: 0.2561 - val_accuracy: 0.9030\n",
            "Epoch 45/50\n",
            "559/559 [==============================] - 21s 37ms/step - loss: 0.1811 - accuracy: 0.9213 - val_loss: 0.2550 - val_accuracy: 0.9044\n",
            "Epoch 46/50\n",
            "559/559 [==============================] - 21s 37ms/step - loss: 0.1797 - accuracy: 0.9221 - val_loss: 0.2649 - val_accuracy: 0.9030\n",
            "Epoch 47/50\n",
            "559/559 [==============================] - 21s 37ms/step - loss: 0.1783 - accuracy: 0.9229 - val_loss: 0.2600 - val_accuracy: 0.9036\n",
            "Epoch 48/50\n",
            "559/559 [==============================] - 21s 37ms/step - loss: 0.1737 - accuracy: 0.9253 - val_loss: 0.2706 - val_accuracy: 0.9021\n",
            "Epoch 49/50\n",
            "559/559 [==============================] - 20s 37ms/step - loss: 0.1750 - accuracy: 0.9245 - val_loss: 0.2778 - val_accuracy: 0.9033\n",
            "Epoch 50/50\n",
            "559/559 [==============================] - 21s 37ms/step - loss: 0.1734 - accuracy: 0.9258 - val_loss: 0.2677 - val_accuracy: 0.9054\n"
          ]
        },
        {
          "output_type": "display_data",
          "data": {
            "text/plain": [
              "<Figure size 640x480 with 1 Axes>"
            ],
            "image/png": "[encoded data removed]"
          },
          "metadata": {}
        },
        {
          "output_type": "display_data",
          "data": {
            "text/plain": [
              "<Figure size 640x480 with 0 Axes>"
            ]
          },
          "metadata": {}
        }
      ]
    },
    {
      "cell_type": "markdown",
      "source": [
        "# **All below will be used in the main optimaly**"
      ],
      "metadata": {
        "id": "GKre9mbiDVgn"
      }
    },
    {
      "cell_type": "code",
      "source": [
        "def predict_densenet_test_data(X_test):\n",
        "    y_pred = densenet_121.predict(X_test)\n",
        "\n",
        "    TP1 = 0\n",
        "    FP1 = 0\n",
        "    TN1 = 0\n",
        "    FN1 = 0\n",
        "\n",
        "    for i in range(len(X_test)):\n",
        "      if y_test[i]==1 and y_pred[i][1] >= y_pred[i][0]:\n",
        "        TP1 += 1\n",
        "      if y_test[i]==0 and y_pred[i][1] > y_pred[i][0]:\n",
        "        FP1 += 1\n",
        "      if y_test[i]==0 and y_pred[i][0] >= y_pred[i][1]:\n",
        "        TN1 += 1\n",
        "      if y_test[i]==1 and y_pred[i][0] >= y_pred[i][1]:\n",
        "        FN1 += 1\n",
        "\n",
        "    print(f\"TP = {TP1}, FP = {FP1}, TN = {TN1}, FN = {FN1}\")\n",
        "\n",
        "    if TP1 >0 or (FP1 >0 and FN1>0): #make sure to not divide by zero\n",
        "      print(f\"Accuracy = {(TP1+TN1)/(TP1+FP1+TN1+FN1)}\")\n",
        "      print(f\"Precision = {TP1/(TP1+FP1)}\")\n",
        "      print(f\"Recall = {TP1/(TP1+FN1)}\")"
      ],
      "metadata": {
        "id": "Ab2vCD_aFw1F"
      },
      "execution_count": null,
      "outputs": []
    },
    {
      "cell_type": "code",
      "source": [
        "def Acc_Epochs_Plot(hist):\n",
        "  get_acc_train = hist.history['accuracy']\n",
        "  get_acc_val = hist.history['val_accuracy']\n",
        "  epochs = range(len(get_acc_train))\n",
        "  plt.plot(epochs, get_acc_train, 'g' , label = 'Accuracy of the training data')\n",
        "  plt.plot(epochs, get_acc_val, 'r', label = 'Accuracy of validtaion data')\n",
        "  plt.title('Accuracy')\n",
        "  plt.legend(loc=0)\n",
        "  plt.figure()\n",
        "  plt.show()"
      ],
      "metadata": {
        "id": "1LCWSObdCwKH"
      },
      "execution_count": null,
      "outputs": []
    },
    {
      "cell_type": "code",
      "source": [
        "def Acc_DenseNet121_VS_Inception_Plot(hist1,hist2):\n",
        "  get_acc_densnet = hist1.history['accuracy']\n",
        "  get_acc_inception = hist2.history['accuracy']\n",
        "  epochs = range(len(get_acc_densnet))\n",
        "  plt.plot(epochs, get_acc_densnet, 'g' , label = 'Accuracy of the DenseNet121 model')\n",
        "  plt.plot(epochs, get_acc_inception, 'r', label = 'Accuracy of InceptionV3 model')\n",
        "  plt.title('Densenet121 VS InceptionV3 Accuracy graph')\n",
        "  plt.legend(loc=0)\n",
        "  plt.figure()\n",
        "  plt.show()"
      ],
      "metadata": {
        "id": "XfndLXj7BShX"
      },
      "execution_count": null,
      "outputs": []
    },
    {
      "cell_type": "code",
      "source": [
        "y_pred_densenet = np.argmax(densenet_121.predict(x_test), axis=1)\n",
        "#predict_densenet_test_data(np.argmax(densenet_121.predict(x_test)))\n",
        "densenet_acc = metrics.accuracy_score(y_test, y_pred_densenet)\n",
        "densenet_acc"
      ],
      "metadata": {
        "id": "4tC6-T_8XouJ",
        "colab": {
          "base_uri": "https://localhost:8080/"
        },
        "outputId": "a5e593f4-518c-4776-a26b-8923b0cb2f80"
      },
      "execution_count": null,
      "outputs": [
        {
          "output_type": "stream",
          "name": "stdout",
          "text": [
            "350/350 [==============================] - 8s 22ms/step\n"
          ]
        },
        {
          "output_type": "execute_result",
          "data": {
            "text/plain": [
              "0.8695535474635412"
            ]
          },
          "metadata": {},
          "execution_count": 28
        }
      ]
    },
    {
      "cell_type": "code",
      "source": [
        "y_pred_inception = np.argmax(inception_v3.predict(x_test),axis=1)\n",
        "inception_acc = metrics.accuracy_score(y_test, y_pred_inception)"
      ],
      "metadata": {
        "colab": {
          "base_uri": "https://localhost:8080/"
        },
        "id": "kuB4_q8RJCN5",
        "outputId": "16253e32-276d-4cc5-e00a-acb68c3f2c05"
      },
      "execution_count": null,
      "outputs": [
        {
          "output_type": "stream",
          "name": "stdout",
          "text": [
            "350/350 [==============================] - 4s 9ms/step\n"
          ]
        }
      ]
    },
    {
      "cell_type": "code",
      "source": [
        "# comparison between the accuracy scores before and after the adjustment\n",
        "fig, ax = plt.subplots()\n",
        "ax.bar([\"DenseNet-121\", \"Inception-V3\"], [densenet_acc, inception_acc])\n",
        "ax.set_title(\"Accuracy score comparison\")\n",
        "ax.set_ylabel(\"Accuracy score\")\n",
        "plt.show()"
      ],
      "metadata": {
        "colab": {
          "base_uri": "https://localhost:8080/",
          "height": 457
        },
        "id": "rXszUts6HkwR",
        "outputId": "d1b7d8b1-741c-4149-946b-59c9135b72d5"
      },
      "execution_count": null,
      "outputs": [
        {
          "output_type": "display_data",
          "data": {
            "text/plain": [
              "<Figure size 640x480 with 1 Axes>"
            ],
            "image/png": "[encoded data removed]"
          },
          "metadata": {}
        }
      ]
    }
  ],
  "metadata": {
    "colab": {
      "machine_shape": "hm",
      "provenance": [],
      "collapsed_sections": [
        "nq0sttnowECM",
        "-pizwjXWwUfH",
        "7AL_KL9S-CE6"
      ],
      "gpuType": "T4",
      "gpuClass": "premium"
    },
    "gpuClass": "premium",
    "kernelspec": {
      "display_name": "Python 3",
      "name": "python3"
    },
    "language_info": {
      "name": "python"
    },
    "accelerator": "GPU"
  },
  "nbformat": 4,
  "nbformat_minor": 0
}